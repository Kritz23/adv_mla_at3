{
 "cells": [
  {
   "cell_type": "markdown",
   "id": "1a9e0552",
   "metadata": {},
   "source": [
    "## Model - Neural Nets"
   ]
  },
  {
   "cell_type": "markdown",
   "id": "79248369",
   "metadata": {},
   "source": [
    "### 1. Feature Engineering (continuing after data cleaning)"
   ]
  },
  {
   "cell_type": "code",
   "execution_count": 1,
   "id": "6de50615",
   "metadata": {},
   "outputs": [],
   "source": [
    "import pandas as pd\n",
    "df = pd.read_pickle(\"../../data/processed/data_cleaned.pkl.gz\",compression='gzip')"
   ]
  },
  {
   "cell_type": "code",
   "execution_count": 2,
   "id": "209bbc28",
   "metadata": {},
   "outputs": [
    {
     "data": {
      "text/html": [
       "<div>\n",
       "<style scoped>\n",
       "    .dataframe tbody tr th:only-of-type {\n",
       "        vertical-align: middle;\n",
       "    }\n",
       "\n",
       "    .dataframe tbody tr th {\n",
       "        vertical-align: top;\n",
       "    }\n",
       "\n",
       "    .dataframe thead th {\n",
       "        text-align: right;\n",
       "    }\n",
       "</style>\n",
       "<table border=\"1\" class=\"dataframe\">\n",
       "  <thead>\n",
       "    <tr style=\"text-align: right;\">\n",
       "      <th></th>\n",
       "      <th>searchDate</th>\n",
       "      <th>flightDate</th>\n",
       "      <th>startingAirport</th>\n",
       "      <th>destinationAirport</th>\n",
       "      <th>isBasicEconomy</th>\n",
       "      <th>isRefundable</th>\n",
       "      <th>isNonStop</th>\n",
       "      <th>totalFare</th>\n",
       "      <th>totalTravelDistance</th>\n",
       "      <th>segmentsDepartureTimeEpochSeconds_Leg1</th>\n",
       "      <th>...</th>\n",
       "      <th>segmentsDurationInSeconds_Leg4</th>\n",
       "      <th>segmentsDistance_Leg1</th>\n",
       "      <th>segmentsDistance_Leg2</th>\n",
       "      <th>segmentsDistance_Leg3</th>\n",
       "      <th>segmentsDistance_Leg4</th>\n",
       "      <th>segmentsCabinCode_Leg1</th>\n",
       "      <th>segmentsCabinCode_Leg2</th>\n",
       "      <th>segmentsCabinCode_Leg3</th>\n",
       "      <th>segmentsCabinCode_Leg4</th>\n",
       "      <th>traveltime_hours</th>\n",
       "    </tr>\n",
       "  </thead>\n",
       "  <tbody>\n",
       "    <tr>\n",
       "      <th>0</th>\n",
       "      <td>2022-04-16</td>\n",
       "      <td>2022-04-17</td>\n",
       "      <td>ATL</td>\n",
       "      <td>BOS</td>\n",
       "      <td>False</td>\n",
       "      <td>False</td>\n",
       "      <td>True</td>\n",
       "      <td>248.600006</td>\n",
       "      <td>947.0</td>\n",
       "      <td>1.650215e+09</td>\n",
       "      <td>...</td>\n",
       "      <td>0.0</td>\n",
       "      <td>947.0</td>\n",
       "      <td>0.0</td>\n",
       "      <td>0.0</td>\n",
       "      <td>0.0</td>\n",
       "      <td>coach</td>\n",
       "      <td>0</td>\n",
       "      <td>0</td>\n",
       "      <td>0</td>\n",
       "      <td>2.483333</td>\n",
       "    </tr>\n",
       "    <tr>\n",
       "      <th>1</th>\n",
       "      <td>2022-04-16</td>\n",
       "      <td>2022-04-17</td>\n",
       "      <td>ATL</td>\n",
       "      <td>BOS</td>\n",
       "      <td>False</td>\n",
       "      <td>False</td>\n",
       "      <td>True</td>\n",
       "      <td>248.600006</td>\n",
       "      <td>947.0</td>\n",
       "      <td>1.650191e+09</td>\n",
       "      <td>...</td>\n",
       "      <td>0.0</td>\n",
       "      <td>947.0</td>\n",
       "      <td>0.0</td>\n",
       "      <td>0.0</td>\n",
       "      <td>0.0</td>\n",
       "      <td>coach</td>\n",
       "      <td>0</td>\n",
       "      <td>0</td>\n",
       "      <td>0</td>\n",
       "      <td>2.500000</td>\n",
       "    </tr>\n",
       "    <tr>\n",
       "      <th>2</th>\n",
       "      <td>2022-04-16</td>\n",
       "      <td>2022-04-17</td>\n",
       "      <td>ATL</td>\n",
       "      <td>BOS</td>\n",
       "      <td>False</td>\n",
       "      <td>False</td>\n",
       "      <td>True</td>\n",
       "      <td>248.600006</td>\n",
       "      <td>947.0</td>\n",
       "      <td>1.650210e+09</td>\n",
       "      <td>...</td>\n",
       "      <td>0.0</td>\n",
       "      <td>947.0</td>\n",
       "      <td>0.0</td>\n",
       "      <td>0.0</td>\n",
       "      <td>0.0</td>\n",
       "      <td>coach</td>\n",
       "      <td>0</td>\n",
       "      <td>0</td>\n",
       "      <td>0</td>\n",
       "      <td>2.500000</td>\n",
       "    </tr>\n",
       "    <tr>\n",
       "      <th>3</th>\n",
       "      <td>2022-04-16</td>\n",
       "      <td>2022-04-17</td>\n",
       "      <td>ATL</td>\n",
       "      <td>BOS</td>\n",
       "      <td>False</td>\n",
       "      <td>False</td>\n",
       "      <td>True</td>\n",
       "      <td>248.600006</td>\n",
       "      <td>947.0</td>\n",
       "      <td>1.650218e+09</td>\n",
       "      <td>...</td>\n",
       "      <td>0.0</td>\n",
       "      <td>947.0</td>\n",
       "      <td>0.0</td>\n",
       "      <td>0.0</td>\n",
       "      <td>0.0</td>\n",
       "      <td>coach</td>\n",
       "      <td>0</td>\n",
       "      <td>0</td>\n",
       "      <td>0</td>\n",
       "      <td>2.533333</td>\n",
       "    </tr>\n",
       "    <tr>\n",
       "      <th>4</th>\n",
       "      <td>2022-04-16</td>\n",
       "      <td>2022-04-17</td>\n",
       "      <td>ATL</td>\n",
       "      <td>BOS</td>\n",
       "      <td>False</td>\n",
       "      <td>False</td>\n",
       "      <td>True</td>\n",
       "      <td>248.600006</td>\n",
       "      <td>947.0</td>\n",
       "      <td>1.650204e+09</td>\n",
       "      <td>...</td>\n",
       "      <td>0.0</td>\n",
       "      <td>947.0</td>\n",
       "      <td>0.0</td>\n",
       "      <td>0.0</td>\n",
       "      <td>0.0</td>\n",
       "      <td>coach</td>\n",
       "      <td>0</td>\n",
       "      <td>0</td>\n",
       "      <td>0</td>\n",
       "      <td>2.566667</td>\n",
       "    </tr>\n",
       "  </tbody>\n",
       "</table>\n",
       "<p>5 rows × 58 columns</p>\n",
       "</div>"
      ],
      "text/plain": [
       "   searchDate  flightDate startingAirport destinationAirport  isBasicEconomy  \\\n",
       "0  2022-04-16  2022-04-17             ATL                BOS           False   \n",
       "1  2022-04-16  2022-04-17             ATL                BOS           False   \n",
       "2  2022-04-16  2022-04-17             ATL                BOS           False   \n",
       "3  2022-04-16  2022-04-17             ATL                BOS           False   \n",
       "4  2022-04-16  2022-04-17             ATL                BOS           False   \n",
       "\n",
       "   isRefundable  isNonStop   totalFare  totalTravelDistance  \\\n",
       "0         False       True  248.600006                947.0   \n",
       "1         False       True  248.600006                947.0   \n",
       "2         False       True  248.600006                947.0   \n",
       "3         False       True  248.600006                947.0   \n",
       "4         False       True  248.600006                947.0   \n",
       "\n",
       "   segmentsDepartureTimeEpochSeconds_Leg1  ...  \\\n",
       "0                            1.650215e+09  ...   \n",
       "1                            1.650191e+09  ...   \n",
       "2                            1.650210e+09  ...   \n",
       "3                            1.650218e+09  ...   \n",
       "4                            1.650204e+09  ...   \n",
       "\n",
       "   segmentsDurationInSeconds_Leg4  segmentsDistance_Leg1  \\\n",
       "0                             0.0                  947.0   \n",
       "1                             0.0                  947.0   \n",
       "2                             0.0                  947.0   \n",
       "3                             0.0                  947.0   \n",
       "4                             0.0                  947.0   \n",
       "\n",
       "   segmentsDistance_Leg2 segmentsDistance_Leg3 segmentsDistance_Leg4  \\\n",
       "0                    0.0                   0.0                   0.0   \n",
       "1                    0.0                   0.0                   0.0   \n",
       "2                    0.0                   0.0                   0.0   \n",
       "3                    0.0                   0.0                   0.0   \n",
       "4                    0.0                   0.0                   0.0   \n",
       "\n",
       "  segmentsCabinCode_Leg1 segmentsCabinCode_Leg2  segmentsCabinCode_Leg3  \\\n",
       "0                  coach                      0                       0   \n",
       "1                  coach                      0                       0   \n",
       "2                  coach                      0                       0   \n",
       "3                  coach                      0                       0   \n",
       "4                  coach                      0                       0   \n",
       "\n",
       "   segmentsCabinCode_Leg4  traveltime_hours  \n",
       "0                       0          2.483333  \n",
       "1                       0          2.500000  \n",
       "2                       0          2.500000  \n",
       "3                       0          2.533333  \n",
       "4                       0          2.566667  \n",
       "\n",
       "[5 rows x 58 columns]"
      ]
     },
     "execution_count": 2,
     "metadata": {},
     "output_type": "execute_result"
    }
   ],
   "source": [
    "df.head()"
   ]
  },
  {
   "cell_type": "code",
   "execution_count": 3,
   "id": "da538afb",
   "metadata": {},
   "outputs": [
    {
     "data": {
      "text/plain": [
       "('2022-04-17', '2022-07-17')"
      ]
     },
     "execution_count": 3,
     "metadata": {},
     "output_type": "execute_result"
    }
   ],
   "source": [
    "df['flightDate'].min(), df['flightDate'].max()"
   ]
  },
  {
   "cell_type": "code",
   "execution_count": 4,
   "id": "923cb7ba",
   "metadata": {},
   "outputs": [
    {
     "data": {
      "text/plain": [
       "coach            13472653\n",
       "premium coach       22826\n",
       "first               21120\n",
       "business             3400\n",
       "Name: segmentsCabinCode_Leg1, dtype: int64"
      ]
     },
     "execution_count": 4,
     "metadata": {},
     "output_type": "execute_result"
    }
   ],
   "source": [
    "df['segmentsCabinCode_Leg1'].value_counts()"
   ]
  },
  {
   "cell_type": "code",
   "execution_count": 5,
   "id": "f800ae18",
   "metadata": {},
   "outputs": [],
   "source": [
    "# convert departure date to pandas datetime type\n",
    "df['flightDate'] = pd.to_datetime(df['flightDate'])"
   ]
  },
  {
   "cell_type": "markdown",
   "id": "be9f9d51",
   "metadata": {},
   "source": [
    "### Cleaning time column"
   ]
  },
  {
   "cell_type": "code",
   "execution_count": 6,
   "id": "4f8a0b52",
   "metadata": {},
   "outputs": [],
   "source": [
    "from dateutil import parser\n",
    "\n",
    "# column containing parsed datetime strings as datetime.datetime objects\n",
    "df['segmentsDepartureTimeRaw_Leg1'] = df['segmentsDepartureTimeRaw_Leg1'].apply(parser.parse)\n",
    "\n",
    "# Extract 'H:M' format and store in a new column\n",
    "df['departure_time'] = df['segmentsDepartureTimeRaw_Leg1'].apply(lambda x: x.strftime('%H:%M'))"
   ]
  },
  {
   "cell_type": "code",
   "execution_count": 7,
   "id": "ca275bfb",
   "metadata": {},
   "outputs": [],
   "source": [
    "# Rounding the 'H:M' formatted time to the nearest 30-minute interval\n",
    "df['departure_time'] = pd.to_datetime(df['departure_time']).dt.round('30min').dt.strftime('%H:%M')"
   ]
  },
  {
   "cell_type": "markdown",
   "id": "a188febb",
   "metadata": {},
   "source": [
    "### Taking average price for all the flights for same dates, similar journey and timings"
   ]
  },
  {
   "cell_type": "code",
   "execution_count": 8,
   "id": "569d085e",
   "metadata": {},
   "outputs": [],
   "source": [
    "features = ['flightDate', 'startingAirport', 'destinationAirport', 'departure_time', 'segmentsCabinCode_Leg1']\n",
    "target = 'totalFare'\n",
    "\n",
    "# Grouping and calculating the average total fare for similar flights\n",
    "grouped_data = df.groupby(features)[target].mean().reset_index()"
   ]
  },
  {
   "cell_type": "code",
   "execution_count": 9,
   "id": "67ee5972",
   "metadata": {},
   "outputs": [],
   "source": [
    "grouped_data.dropna(subset=['totalFare'], inplace=True)"
   ]
  },
  {
   "cell_type": "code",
   "execution_count": 10,
   "id": "9cf93c9f",
   "metadata": {},
   "outputs": [
    {
     "data": {
      "text/plain": [
       "(518989, 6)"
      ]
     },
     "execution_count": 10,
     "metadata": {},
     "output_type": "execute_result"
    }
   ],
   "source": [
    "grouped_data.shape"
   ]
  },
  {
   "cell_type": "code",
   "execution_count": 11,
   "id": "612fd43d",
   "metadata": {},
   "outputs": [
    {
     "data": {
      "text/html": [
       "<div>\n",
       "<style scoped>\n",
       "    .dataframe tbody tr th:only-of-type {\n",
       "        vertical-align: middle;\n",
       "    }\n",
       "\n",
       "    .dataframe tbody tr th {\n",
       "        vertical-align: top;\n",
       "    }\n",
       "\n",
       "    .dataframe thead th {\n",
       "        text-align: right;\n",
       "    }\n",
       "</style>\n",
       "<table border=\"1\" class=\"dataframe\">\n",
       "  <thead>\n",
       "    <tr style=\"text-align: right;\">\n",
       "      <th></th>\n",
       "      <th>flightDate</th>\n",
       "      <th>startingAirport</th>\n",
       "      <th>destinationAirport</th>\n",
       "      <th>departure_time</th>\n",
       "      <th>segmentsCabinCode_Leg1</th>\n",
       "      <th>totalFare</th>\n",
       "    </tr>\n",
       "  </thead>\n",
       "  <tbody>\n",
       "    <tr>\n",
       "      <th>189</th>\n",
       "      <td>2022-04-17</td>\n",
       "      <td>ATL</td>\n",
       "      <td>BOS</td>\n",
       "      <td>05:30</td>\n",
       "      <td>coach</td>\n",
       "      <td>271.589996</td>\n",
       "    </tr>\n",
       "    <tr>\n",
       "      <th>193</th>\n",
       "      <td>2022-04-17</td>\n",
       "      <td>ATL</td>\n",
       "      <td>BOS</td>\n",
       "      <td>06:00</td>\n",
       "      <td>coach</td>\n",
       "      <td>252.600006</td>\n",
       "    </tr>\n",
       "    <tr>\n",
       "      <th>197</th>\n",
       "      <td>2022-04-17</td>\n",
       "      <td>ATL</td>\n",
       "      <td>BOS</td>\n",
       "      <td>06:30</td>\n",
       "      <td>coach</td>\n",
       "      <td>248.600006</td>\n",
       "    </tr>\n",
       "    <tr>\n",
       "      <th>201</th>\n",
       "      <td>2022-04-17</td>\n",
       "      <td>ATL</td>\n",
       "      <td>BOS</td>\n",
       "      <td>07:00</td>\n",
       "      <td>coach</td>\n",
       "      <td>251.100006</td>\n",
       "    </tr>\n",
       "    <tr>\n",
       "      <th>213</th>\n",
       "      <td>2022-04-17</td>\n",
       "      <td>ATL</td>\n",
       "      <td>BOS</td>\n",
       "      <td>08:30</td>\n",
       "      <td>coach</td>\n",
       "      <td>251.100006</td>\n",
       "    </tr>\n",
       "  </tbody>\n",
       "</table>\n",
       "</div>"
      ],
      "text/plain": [
       "    flightDate startingAirport destinationAirport departure_time  \\\n",
       "189 2022-04-17             ATL                BOS          05:30   \n",
       "193 2022-04-17             ATL                BOS          06:00   \n",
       "197 2022-04-17             ATL                BOS          06:30   \n",
       "201 2022-04-17             ATL                BOS          07:00   \n",
       "213 2022-04-17             ATL                BOS          08:30   \n",
       "\n",
       "    segmentsCabinCode_Leg1   totalFare  \n",
       "189                  coach  271.589996  \n",
       "193                  coach  252.600006  \n",
       "197                  coach  248.600006  \n",
       "201                  coach  251.100006  \n",
       "213                  coach  251.100006  "
      ]
     },
     "execution_count": 11,
     "metadata": {},
     "output_type": "execute_result"
    }
   ],
   "source": [
    "grouped_data.head()"
   ]
  },
  {
   "cell_type": "code",
   "execution_count": 13,
   "id": "d8b76dae",
   "metadata": {},
   "outputs": [
    {
     "name": "stdout",
     "output_type": "stream",
     "text": [
      "<class 'pandas.core.frame.DataFrame'>\n",
      "Int64Index: 518989 entries, 189 to 3956561\n",
      "Data columns (total 6 columns):\n",
      " #   Column                  Non-Null Count   Dtype         \n",
      "---  ------                  --------------   -----         \n",
      " 0   flightDate              518989 non-null  datetime64[ns]\n",
      " 1   startingAirport         518989 non-null  category      \n",
      " 2   destinationAirport      518989 non-null  category      \n",
      " 3   departure_time          518989 non-null  object        \n",
      " 4   segmentsCabinCode_Leg1  518989 non-null  category      \n",
      " 5   totalFare               518989 non-null  float32       \n",
      "dtypes: category(3), datetime64[ns](1), float32(1), object(1)\n",
      "memory usage: 15.3+ MB\n"
     ]
    }
   ],
   "source": [
    "grouped_data.info()"
   ]
  },
  {
   "cell_type": "code",
   "execution_count": 14,
   "id": "dff15fe1",
   "metadata": {},
   "outputs": [
    {
     "data": {
      "text/plain": [
       "(Timestamp('2022-04-17 00:00:00'), Timestamp('2022-07-17 00:00:00'))"
      ]
     },
     "execution_count": 14,
     "metadata": {},
     "output_type": "execute_result"
    }
   ],
   "source": [
    "grouped_data['flightDate'].min(), grouped_data['flightDate'].max()"
   ]
  },
  {
   "cell_type": "code",
   "execution_count": 15,
   "id": "0a50d783",
   "metadata": {},
   "outputs": [],
   "source": [
    "# rename column to cabin_type\n",
    "grouped_data.rename(columns = {'segmentsCabinCode_Leg1':'cabin_type'}, inplace = True)"
   ]
  },
  {
   "cell_type": "code",
   "execution_count": 16,
   "id": "62f90b88",
   "metadata": {},
   "outputs": [],
   "source": [
    "# Save the processed data file to csv\n",
    "grouped_data.to_csv(\"../../data/processed/data_processed.csv\", index=False)"
   ]
  },
  {
   "cell_type": "markdown",
   "id": "79190aa5",
   "metadata": {},
   "source": [
    "### Extracting date and time features\n",
    "#### Reading saved data"
   ]
  },
  {
   "cell_type": "code",
   "execution_count": 1,
   "id": "97c0ac83",
   "metadata": {},
   "outputs": [],
   "source": [
    "import pandas as pd\n",
    "flight_data = pd.read_csv(\"../../data/processed/data_processed.csv\")"
   ]
  },
  {
   "cell_type": "code",
   "execution_count": 2,
   "id": "dd6f86b9",
   "metadata": {},
   "outputs": [],
   "source": [
    "## convert into pandas data type\n",
    "dtype_mapping = {'startingAirport': 'category',\n",
    "        'destinationAirport': 'category',\n",
    "        'totalFare': 'float32',\n",
    "        'cabin_type': 'category'}\n",
    "flight_data = flight_data.astype(dtype_mapping)"
   ]
  },
  {
   "cell_type": "code",
   "execution_count": 3,
   "id": "89867c81",
   "metadata": {},
   "outputs": [],
   "source": [
    "import sys\n",
    "sys.path.append(\"../../src/features\")\n",
    "\n",
    "# import function from build_features python script \n",
    "from build_features import get_date_features, get_time_features\n",
    "flight_data = get_date_features(flight_data)\n",
    "flight_data = get_time_features(flight_data)"
   ]
  },
  {
   "cell_type": "code",
   "execution_count": 4,
   "id": "4008e2cc",
   "metadata": {},
   "outputs": [
    {
     "data": {
      "text/html": [
       "<div>\n",
       "<style scoped>\n",
       "    .dataframe tbody tr th:only-of-type {\n",
       "        vertical-align: middle;\n",
       "    }\n",
       "\n",
       "    .dataframe tbody tr th {\n",
       "        vertical-align: top;\n",
       "    }\n",
       "\n",
       "    .dataframe thead th {\n",
       "        text-align: right;\n",
       "    }\n",
       "</style>\n",
       "<table border=\"1\" class=\"dataframe\">\n",
       "  <thead>\n",
       "    <tr style=\"text-align: right;\">\n",
       "      <th></th>\n",
       "      <th>startingAirport</th>\n",
       "      <th>destinationAirport</th>\n",
       "      <th>cabin_type</th>\n",
       "      <th>totalFare</th>\n",
       "      <th>month</th>\n",
       "      <th>day</th>\n",
       "      <th>weekday</th>\n",
       "      <th>departure_time_sin</th>\n",
       "      <th>departure_time_cos</th>\n",
       "      <th>departure_time_category</th>\n",
       "    </tr>\n",
       "  </thead>\n",
       "  <tbody>\n",
       "    <tr>\n",
       "      <th>0</th>\n",
       "      <td>ATL</td>\n",
       "      <td>BOS</td>\n",
       "      <td>coach</td>\n",
       "      <td>271.589996</td>\n",
       "      <td>4</td>\n",
       "      <td>17</td>\n",
       "      <td>6</td>\n",
       "      <td>0.965926</td>\n",
       "      <td>2.588190e-01</td>\n",
       "      <td>night</td>\n",
       "    </tr>\n",
       "    <tr>\n",
       "      <th>1</th>\n",
       "      <td>ATL</td>\n",
       "      <td>BOS</td>\n",
       "      <td>coach</td>\n",
       "      <td>252.600006</td>\n",
       "      <td>4</td>\n",
       "      <td>17</td>\n",
       "      <td>6</td>\n",
       "      <td>1.000000</td>\n",
       "      <td>6.123234e-17</td>\n",
       "      <td>night</td>\n",
       "    </tr>\n",
       "    <tr>\n",
       "      <th>2</th>\n",
       "      <td>ATL</td>\n",
       "      <td>BOS</td>\n",
       "      <td>coach</td>\n",
       "      <td>248.600006</td>\n",
       "      <td>4</td>\n",
       "      <td>17</td>\n",
       "      <td>6</td>\n",
       "      <td>1.000000</td>\n",
       "      <td>6.123234e-17</td>\n",
       "      <td>night</td>\n",
       "    </tr>\n",
       "    <tr>\n",
       "      <th>3</th>\n",
       "      <td>ATL</td>\n",
       "      <td>BOS</td>\n",
       "      <td>coach</td>\n",
       "      <td>251.100006</td>\n",
       "      <td>4</td>\n",
       "      <td>17</td>\n",
       "      <td>6</td>\n",
       "      <td>0.965926</td>\n",
       "      <td>-2.588190e-01</td>\n",
       "      <td>morning</td>\n",
       "    </tr>\n",
       "    <tr>\n",
       "      <th>4</th>\n",
       "      <td>ATL</td>\n",
       "      <td>BOS</td>\n",
       "      <td>coach</td>\n",
       "      <td>251.100006</td>\n",
       "      <td>4</td>\n",
       "      <td>17</td>\n",
       "      <td>6</td>\n",
       "      <td>0.866025</td>\n",
       "      <td>-5.000000e-01</td>\n",
       "      <td>morning</td>\n",
       "    </tr>\n",
       "  </tbody>\n",
       "</table>\n",
       "</div>"
      ],
      "text/plain": [
       "  startingAirport destinationAirport cabin_type   totalFare  month  day  \\\n",
       "0             ATL                BOS      coach  271.589996      4   17   \n",
       "1             ATL                BOS      coach  252.600006      4   17   \n",
       "2             ATL                BOS      coach  248.600006      4   17   \n",
       "3             ATL                BOS      coach  251.100006      4   17   \n",
       "4             ATL                BOS      coach  251.100006      4   17   \n",
       "\n",
       "   weekday  departure_time_sin  departure_time_cos departure_time_category  \n",
       "0        6            0.965926        2.588190e-01                   night  \n",
       "1        6            1.000000        6.123234e-17                   night  \n",
       "2        6            1.000000        6.123234e-17                   night  \n",
       "3        6            0.965926       -2.588190e-01                 morning  \n",
       "4        6            0.866025       -5.000000e-01                 morning  "
      ]
     },
     "execution_count": 4,
     "metadata": {},
     "output_type": "execute_result"
    }
   ],
   "source": [
    "flight_data.head()"
   ]
  },
  {
   "cell_type": "code",
   "execution_count": 7,
   "id": "642d01cb",
   "metadata": {},
   "outputs": [
    {
     "data": {
      "text/html": [
       "<div>\n",
       "<style scoped>\n",
       "    .dataframe tbody tr th:only-of-type {\n",
       "        vertical-align: middle;\n",
       "    }\n",
       "\n",
       "    .dataframe tbody tr th {\n",
       "        vertical-align: top;\n",
       "    }\n",
       "\n",
       "    .dataframe thead th {\n",
       "        text-align: right;\n",
       "    }\n",
       "</style>\n",
       "<table border=\"1\" class=\"dataframe\">\n",
       "  <thead>\n",
       "    <tr style=\"text-align: right;\">\n",
       "      <th></th>\n",
       "      <th>totalFare</th>\n",
       "      <th>month</th>\n",
       "      <th>day</th>\n",
       "      <th>weekday</th>\n",
       "      <th>departure_time_sin</th>\n",
       "      <th>departure_time_cos</th>\n",
       "    </tr>\n",
       "  </thead>\n",
       "  <tbody>\n",
       "    <tr>\n",
       "      <th>count</th>\n",
       "      <td>518989.000000</td>\n",
       "      <td>518989.000000</td>\n",
       "      <td>518989.000000</td>\n",
       "      <td>518989.000000</td>\n",
       "      <td>518989.000000</td>\n",
       "      <td>5.189890e+05</td>\n",
       "    </tr>\n",
       "    <tr>\n",
       "      <th>mean</th>\n",
       "      <td>409.114044</td>\n",
       "      <td>5.518647</td>\n",
       "      <td>15.690963</td>\n",
       "      <td>3.000399</td>\n",
       "      <td>-0.046502</td>\n",
       "      <td>-3.360548e-01</td>\n",
       "    </tr>\n",
       "    <tr>\n",
       "      <th>std</th>\n",
       "      <td>268.047119</td>\n",
       "      <td>0.921477</td>\n",
       "      <td>8.733479</td>\n",
       "      <td>2.010741</td>\n",
       "      <td>0.739494</td>\n",
       "      <td>5.814252e-01</td>\n",
       "    </tr>\n",
       "    <tr>\n",
       "      <th>min</th>\n",
       "      <td>23.969999</td>\n",
       "      <td>4.000000</td>\n",
       "      <td>1.000000</td>\n",
       "      <td>0.000000</td>\n",
       "      <td>-1.000000</td>\n",
       "      <td>-1.000000e+00</td>\n",
       "    </tr>\n",
       "    <tr>\n",
       "      <th>25%</th>\n",
       "      <td>249.028580</td>\n",
       "      <td>5.000000</td>\n",
       "      <td>8.000000</td>\n",
       "      <td>1.000000</td>\n",
       "      <td>-0.707107</td>\n",
       "      <td>-8.660254e-01</td>\n",
       "    </tr>\n",
       "    <tr>\n",
       "      <th>50%</th>\n",
       "      <td>359.314270</td>\n",
       "      <td>5.000000</td>\n",
       "      <td>16.000000</td>\n",
       "      <td>3.000000</td>\n",
       "      <td>-0.258819</td>\n",
       "      <td>-5.000000e-01</td>\n",
       "    </tr>\n",
       "    <tr>\n",
       "      <th>75%</th>\n",
       "      <td>499.096008</td>\n",
       "      <td>6.000000</td>\n",
       "      <td>23.000000</td>\n",
       "      <td>5.000000</td>\n",
       "      <td>0.707107</td>\n",
       "      <td>6.123234e-17</td>\n",
       "    </tr>\n",
       "    <tr>\n",
       "      <th>max</th>\n",
       "      <td>8260.610352</td>\n",
       "      <td>7.000000</td>\n",
       "      <td>31.000000</td>\n",
       "      <td>6.000000</td>\n",
       "      <td>1.000000</td>\n",
       "      <td>1.000000e+00</td>\n",
       "    </tr>\n",
       "  </tbody>\n",
       "</table>\n",
       "</div>"
      ],
      "text/plain": [
       "           totalFare          month            day        weekday  \\\n",
       "count  518989.000000  518989.000000  518989.000000  518989.000000   \n",
       "mean      409.114044       5.518647      15.690963       3.000399   \n",
       "std       268.047119       0.921477       8.733479       2.010741   \n",
       "min        23.969999       4.000000       1.000000       0.000000   \n",
       "25%       249.028580       5.000000       8.000000       1.000000   \n",
       "50%       359.314270       5.000000      16.000000       3.000000   \n",
       "75%       499.096008       6.000000      23.000000       5.000000   \n",
       "max      8260.610352       7.000000      31.000000       6.000000   \n",
       "\n",
       "       departure_time_sin  departure_time_cos  \n",
       "count       518989.000000        5.189890e+05  \n",
       "mean            -0.046502       -3.360548e-01  \n",
       "std              0.739494        5.814252e-01  \n",
       "min             -1.000000       -1.000000e+00  \n",
       "25%             -0.707107       -8.660254e-01  \n",
       "50%             -0.258819       -5.000000e-01  \n",
       "75%              0.707107        6.123234e-17  \n",
       "max              1.000000        1.000000e+00  "
      ]
     },
     "execution_count": 7,
     "metadata": {},
     "output_type": "execute_result"
    }
   ],
   "source": [
    "flight_data.describe()"
   ]
  },
  {
   "cell_type": "markdown",
   "id": "090577b2",
   "metadata": {},
   "source": [
    "### 2. Model building"
   ]
  },
  {
   "cell_type": "code",
   "execution_count": 5,
   "id": "ed265adb",
   "metadata": {},
   "outputs": [],
   "source": [
    "from sklearn.model_selection import train_test_split\n",
    "from sklearn.preprocessing import LabelEncoder\n",
    "from sklearn.preprocessing import StandardScaler\n",
    "\n",
    "# Splitting into features and target\n",
    "X = flight_data.drop('totalFare', axis=1)\n",
    "y = flight_data['totalFare']\n",
    "\n",
    "# Label encoding categorical variables\n",
    "label_encoders = {}\n",
    "for col in ['startingAirport', 'destinationAirport', 'cabin_type', 'departure_time_category']:\n",
    "    label_encoders[col] = LabelEncoder()\n",
    "    X[col] = label_encoders[col].fit_transform(X[col])\n",
    "\n",
    "# Splitting the dataset into training and testing sets\n",
    "X_train, X_test, y_train, y_test = train_test_split(X, y, test_size=0.25, shuffle=True, random_state=23)\n",
    "\n",
    "# Scale the data using StandardScaler\n",
    "scaler = StandardScaler()\n",
    "X_train_scaled = scaler.fit_transform(X_train)\n",
    "X_test_scaled = scaler.transform(X_test)"
   ]
  },
  {
   "cell_type": "markdown",
   "id": "e54811ca",
   "metadata": {},
   "source": [
    "### 2.1 Accessing Baseline"
   ]
  },
  {
   "cell_type": "code",
   "execution_count": 11,
   "id": "10185385",
   "metadata": {},
   "outputs": [
    {
     "name": "stdout",
     "output_type": "stream",
     "text": [
      "Root Mean Squared Error of the baseline model: 268.4026184082031\n"
     ]
    }
   ],
   "source": [
    "import numpy as np\n",
    "from sklearn.metrics import mean_squared_error\n",
    "\n",
    "# Calculate the mean of totalFare\n",
    "mean_total_fare = y_train.mean()\n",
    "\n",
    "# Create a list with the mean value to match the length of the test set\n",
    "baseline_predictions = [mean_total_fare] * len(X_test)\n",
    "\n",
    "# Calculate the Mean Absolute Error of the baseline model\n",
    "rmse_baseline = np.sqrt(mean_squared_error(y_test, baseline_predictions))\n",
    "print(f\"Root Mean Squared Error of the baseline model: {rmse_baseline}\")"
   ]
  },
  {
   "cell_type": "code",
   "execution_count": null,
   "id": "eaeffb3f",
   "metadata": {},
   "outputs": [],
   "source": []
  },
  {
   "cell_type": "code",
   "execution_count": null,
   "id": "5db3f2aa",
   "metadata": {},
   "outputs": [],
   "source": []
  }
 ],
 "metadata": {
  "kernelspec": {
   "display_name": "Python 3 (ipykernel)",
   "language": "python",
   "name": "python3"
  },
  "language_info": {
   "codemirror_mode": {
    "name": "ipython",
    "version": 3
   },
   "file_extension": ".py",
   "mimetype": "text/x-python",
   "name": "python",
   "nbconvert_exporter": "python",
   "pygments_lexer": "ipython3",
   "version": "3.10.12"
  }
 },
 "nbformat": 4,
 "nbformat_minor": 5
}
