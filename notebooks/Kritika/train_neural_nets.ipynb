{
 "cells": [
  {
   "cell_type": "markdown",
   "id": "1a9e0552",
   "metadata": {},
   "source": [
    "## Model - Neural Nets"
   ]
  },
  {
   "cell_type": "markdown",
   "id": "79248369",
   "metadata": {},
   "source": [
    "### 1. Feature Engineering (continuing after data cleaning)"
   ]
  },
  {
   "cell_type": "code",
   "execution_count": 1,
   "id": "6de50615",
   "metadata": {},
   "outputs": [],
   "source": [
    "import pandas as pd\n",
    "df = pd.read_pickle(\"../../data/processed/data_cleaned.pkl.gz\",compression='gzip')"
   ]
  },
  {
   "cell_type": "code",
   "execution_count": 2,
   "id": "209bbc28",
   "metadata": {},
   "outputs": [
    {
     "data": {
      "text/html": [
       "<div>\n",
       "<style scoped>\n",
       "    .dataframe tbody tr th:only-of-type {\n",
       "        vertical-align: middle;\n",
       "    }\n",
       "\n",
       "    .dataframe tbody tr th {\n",
       "        vertical-align: top;\n",
       "    }\n",
       "\n",
       "    .dataframe thead th {\n",
       "        text-align: right;\n",
       "    }\n",
       "</style>\n",
       "<table border=\"1\" class=\"dataframe\">\n",
       "  <thead>\n",
       "    <tr style=\"text-align: right;\">\n",
       "      <th></th>\n",
       "      <th>searchDate</th>\n",
       "      <th>flightDate</th>\n",
       "      <th>startingAirport</th>\n",
       "      <th>destinationAirport</th>\n",
       "      <th>isBasicEconomy</th>\n",
       "      <th>isRefundable</th>\n",
       "      <th>isNonStop</th>\n",
       "      <th>totalFare</th>\n",
       "      <th>totalTravelDistance</th>\n",
       "      <th>segmentsDepartureTimeEpochSeconds_Leg1</th>\n",
       "      <th>...</th>\n",
       "      <th>segmentsDurationInSeconds_Leg4</th>\n",
       "      <th>segmentsDistance_Leg1</th>\n",
       "      <th>segmentsDistance_Leg2</th>\n",
       "      <th>segmentsDistance_Leg3</th>\n",
       "      <th>segmentsDistance_Leg4</th>\n",
       "      <th>segmentsCabinCode_Leg1</th>\n",
       "      <th>segmentsCabinCode_Leg2</th>\n",
       "      <th>segmentsCabinCode_Leg3</th>\n",
       "      <th>segmentsCabinCode_Leg4</th>\n",
       "      <th>traveltime_hours</th>\n",
       "    </tr>\n",
       "  </thead>\n",
       "  <tbody>\n",
       "    <tr>\n",
       "      <th>0</th>\n",
       "      <td>2022-04-16</td>\n",
       "      <td>2022-04-17</td>\n",
       "      <td>ATL</td>\n",
       "      <td>BOS</td>\n",
       "      <td>False</td>\n",
       "      <td>False</td>\n",
       "      <td>True</td>\n",
       "      <td>248.600006</td>\n",
       "      <td>947.0</td>\n",
       "      <td>1.650215e+09</td>\n",
       "      <td>...</td>\n",
       "      <td>0.0</td>\n",
       "      <td>947.0</td>\n",
       "      <td>0.0</td>\n",
       "      <td>0.0</td>\n",
       "      <td>0.0</td>\n",
       "      <td>coach</td>\n",
       "      <td>0</td>\n",
       "      <td>0</td>\n",
       "      <td>0</td>\n",
       "      <td>2.483333</td>\n",
       "    </tr>\n",
       "    <tr>\n",
       "      <th>1</th>\n",
       "      <td>2022-04-16</td>\n",
       "      <td>2022-04-17</td>\n",
       "      <td>ATL</td>\n",
       "      <td>BOS</td>\n",
       "      <td>False</td>\n",
       "      <td>False</td>\n",
       "      <td>True</td>\n",
       "      <td>248.600006</td>\n",
       "      <td>947.0</td>\n",
       "      <td>1.650191e+09</td>\n",
       "      <td>...</td>\n",
       "      <td>0.0</td>\n",
       "      <td>947.0</td>\n",
       "      <td>0.0</td>\n",
       "      <td>0.0</td>\n",
       "      <td>0.0</td>\n",
       "      <td>coach</td>\n",
       "      <td>0</td>\n",
       "      <td>0</td>\n",
       "      <td>0</td>\n",
       "      <td>2.500000</td>\n",
       "    </tr>\n",
       "    <tr>\n",
       "      <th>2</th>\n",
       "      <td>2022-04-16</td>\n",
       "      <td>2022-04-17</td>\n",
       "      <td>ATL</td>\n",
       "      <td>BOS</td>\n",
       "      <td>False</td>\n",
       "      <td>False</td>\n",
       "      <td>True</td>\n",
       "      <td>248.600006</td>\n",
       "      <td>947.0</td>\n",
       "      <td>1.650210e+09</td>\n",
       "      <td>...</td>\n",
       "      <td>0.0</td>\n",
       "      <td>947.0</td>\n",
       "      <td>0.0</td>\n",
       "      <td>0.0</td>\n",
       "      <td>0.0</td>\n",
       "      <td>coach</td>\n",
       "      <td>0</td>\n",
       "      <td>0</td>\n",
       "      <td>0</td>\n",
       "      <td>2.500000</td>\n",
       "    </tr>\n",
       "    <tr>\n",
       "      <th>3</th>\n",
       "      <td>2022-04-16</td>\n",
       "      <td>2022-04-17</td>\n",
       "      <td>ATL</td>\n",
       "      <td>BOS</td>\n",
       "      <td>False</td>\n",
       "      <td>False</td>\n",
       "      <td>True</td>\n",
       "      <td>248.600006</td>\n",
       "      <td>947.0</td>\n",
       "      <td>1.650218e+09</td>\n",
       "      <td>...</td>\n",
       "      <td>0.0</td>\n",
       "      <td>947.0</td>\n",
       "      <td>0.0</td>\n",
       "      <td>0.0</td>\n",
       "      <td>0.0</td>\n",
       "      <td>coach</td>\n",
       "      <td>0</td>\n",
       "      <td>0</td>\n",
       "      <td>0</td>\n",
       "      <td>2.533333</td>\n",
       "    </tr>\n",
       "    <tr>\n",
       "      <th>4</th>\n",
       "      <td>2022-04-16</td>\n",
       "      <td>2022-04-17</td>\n",
       "      <td>ATL</td>\n",
       "      <td>BOS</td>\n",
       "      <td>False</td>\n",
       "      <td>False</td>\n",
       "      <td>True</td>\n",
       "      <td>248.600006</td>\n",
       "      <td>947.0</td>\n",
       "      <td>1.650204e+09</td>\n",
       "      <td>...</td>\n",
       "      <td>0.0</td>\n",
       "      <td>947.0</td>\n",
       "      <td>0.0</td>\n",
       "      <td>0.0</td>\n",
       "      <td>0.0</td>\n",
       "      <td>coach</td>\n",
       "      <td>0</td>\n",
       "      <td>0</td>\n",
       "      <td>0</td>\n",
       "      <td>2.566667</td>\n",
       "    </tr>\n",
       "  </tbody>\n",
       "</table>\n",
       "<p>5 rows × 58 columns</p>\n",
       "</div>"
      ],
      "text/plain": [
       "   searchDate  flightDate startingAirport destinationAirport  isBasicEconomy  \\\n",
       "0  2022-04-16  2022-04-17             ATL                BOS           False   \n",
       "1  2022-04-16  2022-04-17             ATL                BOS           False   \n",
       "2  2022-04-16  2022-04-17             ATL                BOS           False   \n",
       "3  2022-04-16  2022-04-17             ATL                BOS           False   \n",
       "4  2022-04-16  2022-04-17             ATL                BOS           False   \n",
       "\n",
       "   isRefundable  isNonStop   totalFare  totalTravelDistance  \\\n",
       "0         False       True  248.600006                947.0   \n",
       "1         False       True  248.600006                947.0   \n",
       "2         False       True  248.600006                947.0   \n",
       "3         False       True  248.600006                947.0   \n",
       "4         False       True  248.600006                947.0   \n",
       "\n",
       "   segmentsDepartureTimeEpochSeconds_Leg1  ...  \\\n",
       "0                            1.650215e+09  ...   \n",
       "1                            1.650191e+09  ...   \n",
       "2                            1.650210e+09  ...   \n",
       "3                            1.650218e+09  ...   \n",
       "4                            1.650204e+09  ...   \n",
       "\n",
       "   segmentsDurationInSeconds_Leg4  segmentsDistance_Leg1  \\\n",
       "0                             0.0                  947.0   \n",
       "1                             0.0                  947.0   \n",
       "2                             0.0                  947.0   \n",
       "3                             0.0                  947.0   \n",
       "4                             0.0                  947.0   \n",
       "\n",
       "   segmentsDistance_Leg2 segmentsDistance_Leg3 segmentsDistance_Leg4  \\\n",
       "0                    0.0                   0.0                   0.0   \n",
       "1                    0.0                   0.0                   0.0   \n",
       "2                    0.0                   0.0                   0.0   \n",
       "3                    0.0                   0.0                   0.0   \n",
       "4                    0.0                   0.0                   0.0   \n",
       "\n",
       "  segmentsCabinCode_Leg1 segmentsCabinCode_Leg2  segmentsCabinCode_Leg3  \\\n",
       "0                  coach                      0                       0   \n",
       "1                  coach                      0                       0   \n",
       "2                  coach                      0                       0   \n",
       "3                  coach                      0                       0   \n",
       "4                  coach                      0                       0   \n",
       "\n",
       "   segmentsCabinCode_Leg4  traveltime_hours  \n",
       "0                       0          2.483333  \n",
       "1                       0          2.500000  \n",
       "2                       0          2.500000  \n",
       "3                       0          2.533333  \n",
       "4                       0          2.566667  \n",
       "\n",
       "[5 rows x 58 columns]"
      ]
     },
     "execution_count": 2,
     "metadata": {},
     "output_type": "execute_result"
    }
   ],
   "source": [
    "df.head()"
   ]
  },
  {
   "cell_type": "code",
   "execution_count": 3,
   "id": "da538afb",
   "metadata": {},
   "outputs": [
    {
     "data": {
      "text/plain": [
       "('2022-04-17', '2022-07-17')"
      ]
     },
     "execution_count": 3,
     "metadata": {},
     "output_type": "execute_result"
    }
   ],
   "source": [
    "df['flightDate'].min(), df['flightDate'].max()"
   ]
  },
  {
   "cell_type": "code",
   "execution_count": 4,
   "id": "923cb7ba",
   "metadata": {},
   "outputs": [
    {
     "data": {
      "text/plain": [
       "coach            13472653\n",
       "premium coach       22826\n",
       "first               21120\n",
       "business             3400\n",
       "Name: segmentsCabinCode_Leg1, dtype: int64"
      ]
     },
     "execution_count": 4,
     "metadata": {},
     "output_type": "execute_result"
    }
   ],
   "source": [
    "df['segmentsCabinCode_Leg1'].value_counts()"
   ]
  },
  {
   "cell_type": "code",
   "execution_count": 5,
   "id": "f800ae18",
   "metadata": {},
   "outputs": [],
   "source": [
    "# convert departure date to pandas datetime type\n",
    "df['flightDate'] = pd.to_datetime(df['flightDate'])"
   ]
  },
  {
   "cell_type": "markdown",
   "id": "be9f9d51",
   "metadata": {},
   "source": [
    "### Cleaning time column"
   ]
  },
  {
   "cell_type": "code",
   "execution_count": 6,
   "id": "4f8a0b52",
   "metadata": {},
   "outputs": [],
   "source": [
    "from dateutil import parser\n",
    "\n",
    "# column containing parsed datetime strings as datetime.datetime objects\n",
    "df['segmentsDepartureTimeRaw_Leg1'] = df['segmentsDepartureTimeRaw_Leg1'].apply(parser.parse)\n",
    "\n",
    "# Extract 'H:M' format and store in a new column\n",
    "df['departure_time'] = df['segmentsDepartureTimeRaw_Leg1'].apply(lambda x: x.strftime('%H:%M'))"
   ]
  },
  {
   "cell_type": "code",
   "execution_count": 7,
   "id": "ca275bfb",
   "metadata": {},
   "outputs": [],
   "source": [
    "# Rounding the 'H:M' formatted time to the nearest 30-minute interval\n",
    "df['departure_time'] = pd.to_datetime(df['departure_time']).dt.round('30min').dt.strftime('%H:%M')"
   ]
  },
  {
   "cell_type": "markdown",
   "id": "a188febb",
   "metadata": {},
   "source": [
    "### Taking average price for all the flights for same dates, similar journey and timings"
   ]
  },
  {
   "cell_type": "code",
   "execution_count": 8,
   "id": "569d085e",
   "metadata": {},
   "outputs": [],
   "source": [
    "features = ['flightDate', 'startingAirport', 'destinationAirport', 'departure_time', 'segmentsCabinCode_Leg1']\n",
    "target = 'totalFare'\n",
    "\n",
    "# Grouping and calculating the average total fare for similar flights\n",
    "grouped_data = df.groupby(features)[target].mean().reset_index()"
   ]
  },
  {
   "cell_type": "code",
   "execution_count": 9,
   "id": "67ee5972",
   "metadata": {},
   "outputs": [],
   "source": [
    "grouped_data.dropna(subset=['totalFare'], inplace=True)"
   ]
  },
  {
   "cell_type": "code",
   "execution_count": 10,
   "id": "9cf93c9f",
   "metadata": {},
   "outputs": [
    {
     "data": {
      "text/plain": [
       "(518989, 6)"
      ]
     },
     "execution_count": 10,
     "metadata": {},
     "output_type": "execute_result"
    }
   ],
   "source": [
    "grouped_data.shape"
   ]
  },
  {
   "cell_type": "code",
   "execution_count": 11,
   "id": "612fd43d",
   "metadata": {},
   "outputs": [
    {
     "data": {
      "text/html": [
       "<div>\n",
       "<style scoped>\n",
       "    .dataframe tbody tr th:only-of-type {\n",
       "        vertical-align: middle;\n",
       "    }\n",
       "\n",
       "    .dataframe tbody tr th {\n",
       "        vertical-align: top;\n",
       "    }\n",
       "\n",
       "    .dataframe thead th {\n",
       "        text-align: right;\n",
       "    }\n",
       "</style>\n",
       "<table border=\"1\" class=\"dataframe\">\n",
       "  <thead>\n",
       "    <tr style=\"text-align: right;\">\n",
       "      <th></th>\n",
       "      <th>flightDate</th>\n",
       "      <th>startingAirport</th>\n",
       "      <th>destinationAirport</th>\n",
       "      <th>departure_time</th>\n",
       "      <th>segmentsCabinCode_Leg1</th>\n",
       "      <th>totalFare</th>\n",
       "    </tr>\n",
       "  </thead>\n",
       "  <tbody>\n",
       "    <tr>\n",
       "      <th>189</th>\n",
       "      <td>2022-04-17</td>\n",
       "      <td>ATL</td>\n",
       "      <td>BOS</td>\n",
       "      <td>05:30</td>\n",
       "      <td>coach</td>\n",
       "      <td>271.589996</td>\n",
       "    </tr>\n",
       "    <tr>\n",
       "      <th>193</th>\n",
       "      <td>2022-04-17</td>\n",
       "      <td>ATL</td>\n",
       "      <td>BOS</td>\n",
       "      <td>06:00</td>\n",
       "      <td>coach</td>\n",
       "      <td>252.600006</td>\n",
       "    </tr>\n",
       "    <tr>\n",
       "      <th>197</th>\n",
       "      <td>2022-04-17</td>\n",
       "      <td>ATL</td>\n",
       "      <td>BOS</td>\n",
       "      <td>06:30</td>\n",
       "      <td>coach</td>\n",
       "      <td>248.600006</td>\n",
       "    </tr>\n",
       "    <tr>\n",
       "      <th>201</th>\n",
       "      <td>2022-04-17</td>\n",
       "      <td>ATL</td>\n",
       "      <td>BOS</td>\n",
       "      <td>07:00</td>\n",
       "      <td>coach</td>\n",
       "      <td>251.100006</td>\n",
       "    </tr>\n",
       "    <tr>\n",
       "      <th>213</th>\n",
       "      <td>2022-04-17</td>\n",
       "      <td>ATL</td>\n",
       "      <td>BOS</td>\n",
       "      <td>08:30</td>\n",
       "      <td>coach</td>\n",
       "      <td>251.100006</td>\n",
       "    </tr>\n",
       "  </tbody>\n",
       "</table>\n",
       "</div>"
      ],
      "text/plain": [
       "    flightDate startingAirport destinationAirport departure_time  \\\n",
       "189 2022-04-17             ATL                BOS          05:30   \n",
       "193 2022-04-17             ATL                BOS          06:00   \n",
       "197 2022-04-17             ATL                BOS          06:30   \n",
       "201 2022-04-17             ATL                BOS          07:00   \n",
       "213 2022-04-17             ATL                BOS          08:30   \n",
       "\n",
       "    segmentsCabinCode_Leg1   totalFare  \n",
       "189                  coach  271.589996  \n",
       "193                  coach  252.600006  \n",
       "197                  coach  248.600006  \n",
       "201                  coach  251.100006  \n",
       "213                  coach  251.100006  "
      ]
     },
     "execution_count": 11,
     "metadata": {},
     "output_type": "execute_result"
    }
   ],
   "source": [
    "grouped_data.head()"
   ]
  },
  {
   "cell_type": "code",
   "execution_count": 13,
   "id": "d8b76dae",
   "metadata": {},
   "outputs": [
    {
     "name": "stdout",
     "output_type": "stream",
     "text": [
      "<class 'pandas.core.frame.DataFrame'>\n",
      "Int64Index: 518989 entries, 189 to 3956561\n",
      "Data columns (total 6 columns):\n",
      " #   Column                  Non-Null Count   Dtype         \n",
      "---  ------                  --------------   -----         \n",
      " 0   flightDate              518989 non-null  datetime64[ns]\n",
      " 1   startingAirport         518989 non-null  category      \n",
      " 2   destinationAirport      518989 non-null  category      \n",
      " 3   departure_time          518989 non-null  object        \n",
      " 4   segmentsCabinCode_Leg1  518989 non-null  category      \n",
      " 5   totalFare               518989 non-null  float32       \n",
      "dtypes: category(3), datetime64[ns](1), float32(1), object(1)\n",
      "memory usage: 15.3+ MB\n"
     ]
    }
   ],
   "source": [
    "grouped_data.info()"
   ]
  },
  {
   "cell_type": "code",
   "execution_count": 14,
   "id": "dff15fe1",
   "metadata": {},
   "outputs": [
    {
     "data": {
      "text/plain": [
       "(Timestamp('2022-04-17 00:00:00'), Timestamp('2022-07-17 00:00:00'))"
      ]
     },
     "execution_count": 14,
     "metadata": {},
     "output_type": "execute_result"
    }
   ],
   "source": [
    "grouped_data['flightDate'].min(), grouped_data['flightDate'].max()"
   ]
  },
  {
   "cell_type": "code",
   "execution_count": 15,
   "id": "0a50d783",
   "metadata": {},
   "outputs": [],
   "source": [
    "# rename column to cabin_type\n",
    "grouped_data.rename(columns = {'segmentsCabinCode_Leg1':'cabin_type'}, inplace = True)"
   ]
  },
  {
   "cell_type": "code",
   "execution_count": 16,
   "id": "62f90b88",
   "metadata": {},
   "outputs": [],
   "source": [
    "# Save the processed data file to csv\n",
    "grouped_data.to_csv(\"../../data/processed/data_processed.csv\", index=False)"
   ]
  },
  {
   "cell_type": "markdown",
   "id": "79190aa5",
   "metadata": {},
   "source": [
    "### Extracting date and time features\n",
    "#### Reading saved data"
   ]
  },
  {
   "cell_type": "code",
   "execution_count": 1,
   "id": "97c0ac83",
   "metadata": {},
   "outputs": [],
   "source": [
    "import pandas as pd\n",
    "flight_data = pd.read_csv(\"../../data/processed/data_processed.csv\")"
   ]
  },
  {
   "cell_type": "code",
   "execution_count": 2,
   "id": "dd6f86b9",
   "metadata": {},
   "outputs": [],
   "source": [
    "## convert into pandas data type\n",
    "dtype_mapping = {'startingAirport': 'category',\n",
    "        'destinationAirport': 'category',\n",
    "        'totalFare': 'float32',\n",
    "        'cabin_type': 'category'}\n",
    "flight_data = flight_data.astype(dtype_mapping)"
   ]
  },
  {
   "cell_type": "code",
   "execution_count": 3,
   "id": "89867c81",
   "metadata": {},
   "outputs": [
    {
     "name": "stderr",
     "output_type": "stream",
     "text": [
      "/Users/kritika/Desktop/MDSI/AMLA/adv_mla_at3/notebooks/Kritika/../../src/features/build_features.py:14: UserWarning: Could not infer format, so each element will be parsed individually, falling back to `dateutil`. To ensure parsing is consistent and as-expected, please specify a format.\n",
      "  flight_data['departure_time'] = pd.to_datetime(flight_data['departure_time'])\n"
     ]
    }
   ],
   "source": [
    "import sys\n",
    "sys.path.append(\"../../src/features\")\n",
    "\n",
    "# import function from build_features python script \n",
    "from build_features import get_date_features, get_time_features\n",
    "flight_data = get_date_features(flight_data)\n",
    "flight_data = get_time_features(flight_data)"
   ]
  },
  {
   "cell_type": "code",
   "execution_count": 4,
   "id": "4008e2cc",
   "metadata": {},
   "outputs": [
    {
     "data": {
      "text/html": [
       "<div>\n",
       "<style scoped>\n",
       "    .dataframe tbody tr th:only-of-type {\n",
       "        vertical-align: middle;\n",
       "    }\n",
       "\n",
       "    .dataframe tbody tr th {\n",
       "        vertical-align: top;\n",
       "    }\n",
       "\n",
       "    .dataframe thead th {\n",
       "        text-align: right;\n",
       "    }\n",
       "</style>\n",
       "<table border=\"1\" class=\"dataframe\">\n",
       "  <thead>\n",
       "    <tr style=\"text-align: right;\">\n",
       "      <th></th>\n",
       "      <th>startingAirport</th>\n",
       "      <th>destinationAirport</th>\n",
       "      <th>cabin_type</th>\n",
       "      <th>totalFare</th>\n",
       "      <th>month</th>\n",
       "      <th>day</th>\n",
       "      <th>weekday</th>\n",
       "      <th>departure_time_sin</th>\n",
       "      <th>departure_time_cos</th>\n",
       "      <th>departure_time_category</th>\n",
       "    </tr>\n",
       "  </thead>\n",
       "  <tbody>\n",
       "    <tr>\n",
       "      <th>0</th>\n",
       "      <td>ATL</td>\n",
       "      <td>BOS</td>\n",
       "      <td>coach</td>\n",
       "      <td>271.589996</td>\n",
       "      <td>4</td>\n",
       "      <td>17</td>\n",
       "      <td>6</td>\n",
       "      <td>0.965926</td>\n",
       "      <td>2.588190e-01</td>\n",
       "      <td>night</td>\n",
       "    </tr>\n",
       "    <tr>\n",
       "      <th>1</th>\n",
       "      <td>ATL</td>\n",
       "      <td>BOS</td>\n",
       "      <td>coach</td>\n",
       "      <td>252.600006</td>\n",
       "      <td>4</td>\n",
       "      <td>17</td>\n",
       "      <td>6</td>\n",
       "      <td>1.000000</td>\n",
       "      <td>6.123234e-17</td>\n",
       "      <td>night</td>\n",
       "    </tr>\n",
       "    <tr>\n",
       "      <th>2</th>\n",
       "      <td>ATL</td>\n",
       "      <td>BOS</td>\n",
       "      <td>coach</td>\n",
       "      <td>248.600006</td>\n",
       "      <td>4</td>\n",
       "      <td>17</td>\n",
       "      <td>6</td>\n",
       "      <td>1.000000</td>\n",
       "      <td>6.123234e-17</td>\n",
       "      <td>night</td>\n",
       "    </tr>\n",
       "    <tr>\n",
       "      <th>3</th>\n",
       "      <td>ATL</td>\n",
       "      <td>BOS</td>\n",
       "      <td>coach</td>\n",
       "      <td>251.100006</td>\n",
       "      <td>4</td>\n",
       "      <td>17</td>\n",
       "      <td>6</td>\n",
       "      <td>0.965926</td>\n",
       "      <td>-2.588190e-01</td>\n",
       "      <td>morning</td>\n",
       "    </tr>\n",
       "    <tr>\n",
       "      <th>4</th>\n",
       "      <td>ATL</td>\n",
       "      <td>BOS</td>\n",
       "      <td>coach</td>\n",
       "      <td>251.100006</td>\n",
       "      <td>4</td>\n",
       "      <td>17</td>\n",
       "      <td>6</td>\n",
       "      <td>0.866025</td>\n",
       "      <td>-5.000000e-01</td>\n",
       "      <td>morning</td>\n",
       "    </tr>\n",
       "  </tbody>\n",
       "</table>\n",
       "</div>"
      ],
      "text/plain": [
       "  startingAirport destinationAirport cabin_type   totalFare  month  day   \n",
       "0             ATL                BOS      coach  271.589996      4   17  \\\n",
       "1             ATL                BOS      coach  252.600006      4   17   \n",
       "2             ATL                BOS      coach  248.600006      4   17   \n",
       "3             ATL                BOS      coach  251.100006      4   17   \n",
       "4             ATL                BOS      coach  251.100006      4   17   \n",
       "\n",
       "   weekday  departure_time_sin  departure_time_cos departure_time_category  \n",
       "0        6            0.965926        2.588190e-01                   night  \n",
       "1        6            1.000000        6.123234e-17                   night  \n",
       "2        6            1.000000        6.123234e-17                   night  \n",
       "3        6            0.965926       -2.588190e-01                 morning  \n",
       "4        6            0.866025       -5.000000e-01                 morning  "
      ]
     },
     "execution_count": 4,
     "metadata": {},
     "output_type": "execute_result"
    }
   ],
   "source": [
    "flight_data.head()"
   ]
  },
  {
   "cell_type": "code",
   "execution_count": 5,
   "id": "642d01cb",
   "metadata": {},
   "outputs": [
    {
     "data": {
      "text/html": [
       "<div>\n",
       "<style scoped>\n",
       "    .dataframe tbody tr th:only-of-type {\n",
       "        vertical-align: middle;\n",
       "    }\n",
       "\n",
       "    .dataframe tbody tr th {\n",
       "        vertical-align: top;\n",
       "    }\n",
       "\n",
       "    .dataframe thead th {\n",
       "        text-align: right;\n",
       "    }\n",
       "</style>\n",
       "<table border=\"1\" class=\"dataframe\">\n",
       "  <thead>\n",
       "    <tr style=\"text-align: right;\">\n",
       "      <th></th>\n",
       "      <th>totalFare</th>\n",
       "      <th>month</th>\n",
       "      <th>day</th>\n",
       "      <th>weekday</th>\n",
       "      <th>departure_time_sin</th>\n",
       "      <th>departure_time_cos</th>\n",
       "    </tr>\n",
       "  </thead>\n",
       "  <tbody>\n",
       "    <tr>\n",
       "      <th>count</th>\n",
       "      <td>518989.000000</td>\n",
       "      <td>518989.000000</td>\n",
       "      <td>518989.000000</td>\n",
       "      <td>518989.000000</td>\n",
       "      <td>518989.000000</td>\n",
       "      <td>5.189890e+05</td>\n",
       "    </tr>\n",
       "    <tr>\n",
       "      <th>mean</th>\n",
       "      <td>409.114044</td>\n",
       "      <td>5.518647</td>\n",
       "      <td>15.690963</td>\n",
       "      <td>3.000399</td>\n",
       "      <td>-0.046502</td>\n",
       "      <td>-3.360548e-01</td>\n",
       "    </tr>\n",
       "    <tr>\n",
       "      <th>std</th>\n",
       "      <td>268.047119</td>\n",
       "      <td>0.921477</td>\n",
       "      <td>8.733479</td>\n",
       "      <td>2.010741</td>\n",
       "      <td>0.739494</td>\n",
       "      <td>5.814252e-01</td>\n",
       "    </tr>\n",
       "    <tr>\n",
       "      <th>min</th>\n",
       "      <td>23.969999</td>\n",
       "      <td>4.000000</td>\n",
       "      <td>1.000000</td>\n",
       "      <td>0.000000</td>\n",
       "      <td>-1.000000</td>\n",
       "      <td>-1.000000e+00</td>\n",
       "    </tr>\n",
       "    <tr>\n",
       "      <th>25%</th>\n",
       "      <td>249.028580</td>\n",
       "      <td>5.000000</td>\n",
       "      <td>8.000000</td>\n",
       "      <td>1.000000</td>\n",
       "      <td>-0.707107</td>\n",
       "      <td>-8.660254e-01</td>\n",
       "    </tr>\n",
       "    <tr>\n",
       "      <th>50%</th>\n",
       "      <td>359.314270</td>\n",
       "      <td>5.000000</td>\n",
       "      <td>16.000000</td>\n",
       "      <td>3.000000</td>\n",
       "      <td>-0.258819</td>\n",
       "      <td>-5.000000e-01</td>\n",
       "    </tr>\n",
       "    <tr>\n",
       "      <th>75%</th>\n",
       "      <td>499.096008</td>\n",
       "      <td>6.000000</td>\n",
       "      <td>23.000000</td>\n",
       "      <td>5.000000</td>\n",
       "      <td>0.707107</td>\n",
       "      <td>6.123234e-17</td>\n",
       "    </tr>\n",
       "    <tr>\n",
       "      <th>max</th>\n",
       "      <td>8260.610352</td>\n",
       "      <td>7.000000</td>\n",
       "      <td>31.000000</td>\n",
       "      <td>6.000000</td>\n",
       "      <td>1.000000</td>\n",
       "      <td>1.000000e+00</td>\n",
       "    </tr>\n",
       "  </tbody>\n",
       "</table>\n",
       "</div>"
      ],
      "text/plain": [
       "           totalFare          month            day        weekday   \n",
       "count  518989.000000  518989.000000  518989.000000  518989.000000  \\\n",
       "mean      409.114044       5.518647      15.690963       3.000399   \n",
       "std       268.047119       0.921477       8.733479       2.010741   \n",
       "min        23.969999       4.000000       1.000000       0.000000   \n",
       "25%       249.028580       5.000000       8.000000       1.000000   \n",
       "50%       359.314270       5.000000      16.000000       3.000000   \n",
       "75%       499.096008       6.000000      23.000000       5.000000   \n",
       "max      8260.610352       7.000000      31.000000       6.000000   \n",
       "\n",
       "       departure_time_sin  departure_time_cos  \n",
       "count       518989.000000        5.189890e+05  \n",
       "mean            -0.046502       -3.360548e-01  \n",
       "std              0.739494        5.814252e-01  \n",
       "min             -1.000000       -1.000000e+00  \n",
       "25%             -0.707107       -8.660254e-01  \n",
       "50%             -0.258819       -5.000000e-01  \n",
       "75%              0.707107        6.123234e-17  \n",
       "max              1.000000        1.000000e+00  "
      ]
     },
     "execution_count": 5,
     "metadata": {},
     "output_type": "execute_result"
    }
   ],
   "source": [
    "flight_data.describe()"
   ]
  },
  {
   "cell_type": "markdown",
   "id": "090577b2",
   "metadata": {},
   "source": [
    "### 2. Modelling"
   ]
  },
  {
   "cell_type": "code",
   "execution_count": 8,
   "id": "ed265adb",
   "metadata": {},
   "outputs": [],
   "source": [
    "from sklearn.model_selection import train_test_split\n",
    "from sklearn.preprocessing import LabelEncoder\n",
    "from sklearn.preprocessing import StandardScaler\n",
    "\n",
    "# Splitting into features and target\n",
    "X = flight_data.drop('totalFare', axis=1)\n",
    "y = flight_data['totalFare']\n",
    "\n",
    "# Label encoding categorical variables\n",
    "label_encoders = {}\n",
    "for col in ['startingAirport', 'destinationAirport', 'cabin_type', 'departure_time_category']:\n",
    "    label_encoders[col] = LabelEncoder()\n",
    "    X[col] = label_encoders[col].fit_transform(X[col])\n",
    "\n",
    "# Splitting the dataset into training and testing sets\n",
    "X_train, X_test, y_train, y_test = train_test_split(X, y, test_size=0.25, shuffle=True, random_state=23)\n",
    "\n",
    "# Scale the data using StandardScaler\n",
    "scaler = StandardScaler()\n",
    "X_train_scaled = scaler.fit_transform(X_train)\n",
    "X_test_scaled = scaler.transform(X_test)"
   ]
  },
  {
   "cell_type": "code",
   "execution_count": 11,
   "id": "a5e2e5dc",
   "metadata": {},
   "outputs": [
    {
     "data": {
      "text/plain": [
       "['../../models/Kritika/standard_scaler.joblib']"
      ]
     },
     "execution_count": 11,
     "metadata": {},
     "output_type": "execute_result"
    }
   ],
   "source": [
    "### Save label encoder and standard scaler models\n",
    "import joblib\n",
    "\n",
    "joblib.dump(label_encoders, '../../models/Kritika/label_encoder.joblib')\n",
    "joblib.dump(scaler, '../../models/Kritika/standard_scaler.joblib')"
   ]
  },
  {
   "cell_type": "code",
   "execution_count": 7,
   "id": "ec5d55de",
   "metadata": {},
   "outputs": [
    {
     "data": {
      "text/plain": [
       "((389241, 9), (129748, 9))"
      ]
     },
     "execution_count": 7,
     "metadata": {},
     "output_type": "execute_result"
    }
   ],
   "source": [
    "X_train.shape, X_test.shape"
   ]
  },
  {
   "cell_type": "markdown",
   "id": "e54811ca",
   "metadata": {},
   "source": [
    "### 2.1 Accessing Baseline"
   ]
  },
  {
   "cell_type": "code",
   "execution_count": 8,
   "id": "10185385",
   "metadata": {},
   "outputs": [
    {
     "name": "stdout",
     "output_type": "stream",
     "text": [
      "Root Mean Squared Error of the baseline model: 268.4026184082031\n"
     ]
    }
   ],
   "source": [
    "import numpy as np\n",
    "from sklearn.metrics import mean_squared_error\n",
    "\n",
    "# Calculate the mean of totalFare\n",
    "mean_total_fare = y_train.mean()\n",
    "\n",
    "# Create a list with the mean value to match the length of the test set\n",
    "baseline_predictions = [mean_total_fare] * len(X_test)\n",
    "\n",
    "# Calculate the Mean Absolute Error of the baseline model\n",
    "rmse_baseline = np.sqrt(mean_squared_error(y_test, baseline_predictions))\n",
    "print(f\"Root Mean Squared Error of the baseline model: {rmse_baseline}\")"
   ]
  },
  {
   "cell_type": "markdown",
   "id": "145e3b59",
   "metadata": {},
   "source": [
    "**Reasons to choose specific parameters a/c to business objective:**\n",
    "\n",
    "1. Loss Function:\n",
    "A loss function that penalizes underestimation more than overestimation - The Mean Squared Logarithmic Error (MSLE) is one such loss function that penalizes underestimation of higher values more than lower values. It's particularly useful when dealing with data with exponential growth patterns or when a linear model is desired on the logarithm of the predicted and actual values.\n",
    "\n",
    "2. Optimizer:\n",
    "An optimizer that balances speed and accuracy, such as Adam (Adaptive Moment Estimation), is commonly a good choice. Adam adapts learning rates for each parameter and combines the advantages of both AdaGrad and RMSProp.\n",
    "\n",
    "3. Metrics:\n",
    "For evaluation, while RMSE (Root Mean Squared Error) is a standard metric for regression tasks, i my case, it's crucial to also monitor the Mean Absolute Percentage Error (MAPE) or the Percentage of Absolute Errors (PAE). These metrics show the percentage of the absolute difference between the predicted and actual values and could help ensure that the model doesn't make significant underestimations."
   ]
  },
  {
   "cell_type": "markdown",
   "id": "4ba34c3e",
   "metadata": {},
   "source": [
    "### 2.2 Neural Networks model\n",
    "### Experiment 2 - Added Dropout and model checkpoint"
   ]
  },
  {
   "cell_type": "code",
   "execution_count": 6,
   "id": "b7230655",
   "metadata": {},
   "outputs": [],
   "source": [
    "### Call training helper script\n",
    "import sys\n",
    "sys.path.append('../../src/models')"
   ]
  },
  {
   "cell_type": "markdown",
   "id": "9b5e0953",
   "metadata": {},
   "source": [
    "**Load train_model.py script to call train_and_evaluate_model function** "
   ]
  },
  {
   "cell_type": "code",
   "execution_count": 9,
   "id": "27856af6",
   "metadata": {
    "scrolled": true
   },
   "outputs": [
    {
     "name": "stderr",
     "output_type": "stream",
     "text": [
      "Failed to detect the name of this notebook, you can set it manually with the WANDB_NOTEBOOK_NAME environment variable to enable code saving.\n",
      "\u001b[34m\u001b[1mwandb\u001b[0m: Currently logged in as: \u001b[33mkritz2399\u001b[0m (\u001b[33mkritika_23\u001b[0m). Use \u001b[1m`wandb login --relogin`\u001b[0m to force relogin\n"
     ]
    },
    {
     "data": {
      "text/html": [
       "Tracking run with wandb version 0.16.0"
      ],
      "text/plain": [
       "<IPython.core.display.HTML object>"
      ]
     },
     "metadata": {},
     "output_type": "display_data"
    },
    {
     "data": {
      "text/html": [
       "Run data is saved locally in <code>/Users/kritika/Desktop/MDSI/AMLA/adv_mla_at3/notebooks/Kritika/wandb/run-20231108_154400-h2qkaq5c</code>"
      ],
      "text/plain": [
       "<IPython.core.display.HTML object>"
      ]
     },
     "metadata": {},
     "output_type": "display_data"
    },
    {
     "data": {
      "text/html": [
       "Syncing run <strong><a href='https://wandb.ai/kritika_23/adv_mla_at3/runs/h2qkaq5c' target=\"_blank\">dutiful-dew-15</a></strong> to <a href='https://wandb.ai/kritika_23/adv_mla_at3' target=\"_blank\">Weights & Biases</a> (<a href='https://wandb.me/run' target=\"_blank\">docs</a>)<br/>"
      ],
      "text/plain": [
       "<IPython.core.display.HTML object>"
      ]
     },
     "metadata": {},
     "output_type": "display_data"
    },
    {
     "data": {
      "text/html": [
       " View project at <a href='https://wandb.ai/kritika_23/adv_mla_at3' target=\"_blank\">https://wandb.ai/kritika_23/adv_mla_at3</a>"
      ],
      "text/plain": [
       "<IPython.core.display.HTML object>"
      ]
     },
     "metadata": {},
     "output_type": "display_data"
    },
    {
     "data": {
      "text/html": [
       " View run at <a href='https://wandb.ai/kritika_23/adv_mla_at3/runs/h2qkaq5c' target=\"_blank\">https://wandb.ai/kritika_23/adv_mla_at3/runs/h2qkaq5c</a>"
      ],
      "text/plain": [
       "<IPython.core.display.HTML object>"
      ]
     },
     "metadata": {},
     "output_type": "display_data"
    },
    {
     "name": "stderr",
     "output_type": "stream",
     "text": [
      "WARNING:absl:At this time, the v2.11+ optimizer `tf.keras.optimizers.Adam` runs slowly on M1/M2 Macs, please use the legacy Keras optimizer instead, located at `tf.keras.optimizers.legacy.Adam`.\n"
     ]
    },
    {
     "name": "stdout",
     "output_type": "stream",
     "text": [
      "Epoch 1/100\n",
      "12164/12164 [==============================] - 9s 686us/step - loss: 0.4193 - mean_squared_error: 64682.7773 - mean_absolute_percentage_error: 45.6099 - val_loss: 0.2244 - val_mean_squared_error: 54868.7500 - val_mean_absolute_percentage_error: 41.7694 - lr: 0.0010\n",
      "Epoch 2/100\n",
      "  252/12164 [..............................] - ETA: 7s - loss: 0.2493 - mean_squared_error: 58094.6953 - mean_absolute_percentage_error: 44.4085"
     ]
    },
    {
     "name": "stderr",
     "output_type": "stream",
     "text": [
      "/Users/kritika/Library/Caches/pypoetry/virtualenvs/adv-mla-at3-NzhSlUn1-py3.9/lib/python3.9/site-packages/keras/src/engine/training.py:3079: UserWarning: You are saving your model as an HDF5 file via `model.save()`. This file format is considered legacy. We recommend using instead the native Keras format, e.g. `model.save('my_model.keras')`.\n",
      "  saving_api.save_model(\n"
     ]
    },
    {
     "name": "stdout",
     "output_type": "stream",
     "text": [
      "12164/12164 [==============================] - 8s 686us/step - loss: 0.2425 - mean_squared_error: 54027.6836 - mean_absolute_percentage_error: 43.8545 - val_loss: 0.2154 - val_mean_squared_error: 46061.1641 - val_mean_absolute_percentage_error: 42.3332 - lr: 0.0010\n",
      "Epoch 3/100\n",
      "12164/12164 [==============================] - 9s 701us/step - loss: 0.2361 - mean_squared_error: 50771.5000 - mean_absolute_percentage_error: 43.1355 - val_loss: 0.2098 - val_mean_squared_error: 43971.7852 - val_mean_absolute_percentage_error: 41.5720 - lr: 0.0010\n",
      "Epoch 4/100\n",
      "12164/12164 [==============================] - 8s 692us/step - loss: 0.2275 - mean_squared_error: 48722.9766 - mean_absolute_percentage_error: 41.8491 - val_loss: 0.1990 - val_mean_squared_error: 42185.6289 - val_mean_absolute_percentage_error: 39.4412 - lr: 0.0010\n",
      "Epoch 5/100\n",
      "12164/12164 [==============================] - 8s 697us/step - loss: 0.2210 - mean_squared_error: 47062.2852 - mean_absolute_percentage_error: 40.9139 - val_loss: 0.1971 - val_mean_squared_error: 42091.0586 - val_mean_absolute_percentage_error: 39.4210 - lr: 0.0010\n",
      "Epoch 6/100\n",
      "12164/12164 [==============================] - 9s 700us/step - loss: 0.2169 - mean_squared_error: 45887.8359 - mean_absolute_percentage_error: 40.3561 - val_loss: 0.1933 - val_mean_squared_error: 41620.9766 - val_mean_absolute_percentage_error: 38.1620 - lr: 0.0010\n",
      "Epoch 7/100\n",
      "12164/12164 [==============================] - 9s 702us/step - loss: 0.2128 - mean_squared_error: 44424.5234 - mean_absolute_percentage_error: 39.8633 - val_loss: 0.1886 - val_mean_squared_error: 40273.0078 - val_mean_absolute_percentage_error: 37.3096 - lr: 0.0010\n",
      "Epoch 8/100\n",
      "12164/12164 [==============================] - 9s 704us/step - loss: 0.2079 - mean_squared_error: 43115.3203 - mean_absolute_percentage_error: 39.2557 - val_loss: 0.1844 - val_mean_squared_error: 38828.4453 - val_mean_absolute_percentage_error: 37.2994 - lr: 0.0010\n",
      "Epoch 9/100\n",
      "12164/12164 [==============================] - 9s 702us/step - loss: 0.2025 - mean_squared_error: 41804.2773 - mean_absolute_percentage_error: 38.6009 - val_loss: 0.1781 - val_mean_squared_error: 37973.7969 - val_mean_absolute_percentage_error: 35.8239 - lr: 0.0010\n",
      "Epoch 10/100\n",
      "12164/12164 [==============================] - 9s 705us/step - loss: 0.1967 - mean_squared_error: 40629.2422 - mean_absolute_percentage_error: 37.9674 - val_loss: 0.1718 - val_mean_squared_error: 36746.0000 - val_mean_absolute_percentage_error: 35.1834 - lr: 0.0010\n",
      "Epoch 11/100\n",
      "12164/12164 [==============================] - 9s 714us/step - loss: 0.1893 - mean_squared_error: 39522.6523 - mean_absolute_percentage_error: 37.1946 - val_loss: 0.1703 - val_mean_squared_error: 34986.0977 - val_mean_absolute_percentage_error: 36.6546 - lr: 0.0010\n",
      "Epoch 12/100\n",
      "12164/12164 [==============================] - 9s 703us/step - loss: 0.1804 - mean_squared_error: 38105.7695 - mean_absolute_percentage_error: 36.2722 - val_loss: 0.1547 - val_mean_squared_error: 33971.4297 - val_mean_absolute_percentage_error: 33.2235 - lr: 0.0010\n",
      "Epoch 13/100\n",
      "12164/12164 [==============================] - 9s 707us/step - loss: 0.1692 - mean_squared_error: 36357.6406 - mean_absolute_percentage_error: 35.0185 - val_loss: 0.1460 - val_mean_squared_error: 31346.7266 - val_mean_absolute_percentage_error: 32.6604 - lr: 0.0010\n",
      "Epoch 14/100\n",
      "12164/12164 [==============================] - 9s 708us/step - loss: 0.1611 - mean_squared_error: 34840.6484 - mean_absolute_percentage_error: 34.0134 - val_loss: 0.1412 - val_mean_squared_error: 31153.4492 - val_mean_absolute_percentage_error: 31.6442 - lr: 0.0010\n",
      "Epoch 15/100\n",
      "12164/12164 [==============================] - 9s 707us/step - loss: 0.1565 - mean_squared_error: 34299.5273 - mean_absolute_percentage_error: 33.3288 - val_loss: 0.1379 - val_mean_squared_error: 30145.5215 - val_mean_absolute_percentage_error: 30.9778 - lr: 0.0010\n",
      "Epoch 16/100\n",
      "12164/12164 [==============================] - 9s 706us/step - loss: 0.1527 - mean_squared_error: 33863.7188 - mean_absolute_percentage_error: 32.8106 - val_loss: 0.1335 - val_mean_squared_error: 30993.2227 - val_mean_absolute_percentage_error: 30.0278 - lr: 0.0010\n",
      "Epoch 17/100\n",
      "12164/12164 [==============================] - 9s 708us/step - loss: 0.1499 - mean_squared_error: 33477.4609 - mean_absolute_percentage_error: 32.3604 - val_loss: 0.1294 - val_mean_squared_error: 29653.7754 - val_mean_absolute_percentage_error: 29.5185 - lr: 0.0010\n",
      "Epoch 18/100\n",
      "12164/12164 [==============================] - 9s 707us/step - loss: 0.1474 - mean_squared_error: 33217.4609 - mean_absolute_percentage_error: 31.9908 - val_loss: 0.1277 - val_mean_squared_error: 27978.8691 - val_mean_absolute_percentage_error: 30.1751 - lr: 0.0010\n",
      "Epoch 19/100\n",
      "12164/12164 [==============================] - 9s 706us/step - loss: 0.1456 - mean_squared_error: 32770.1641 - mean_absolute_percentage_error: 31.7256 - val_loss: 0.1270 - val_mean_squared_error: 29672.6230 - val_mean_absolute_percentage_error: 28.7095 - lr: 0.0010\n",
      "Epoch 20/100\n",
      "12164/12164 [==============================] - 9s 708us/step - loss: 0.1433 - mean_squared_error: 32360.9453 - mean_absolute_percentage_error: 31.3654 - val_loss: 0.1245 - val_mean_squared_error: 28358.7188 - val_mean_absolute_percentage_error: 29.2470 - lr: 0.0010\n",
      "Epoch 21/100\n",
      "12164/12164 [==============================] - 9s 709us/step - loss: 0.1414 - mean_squared_error: 32079.3809 - mean_absolute_percentage_error: 31.1146 - val_loss: 0.1215 - val_mean_squared_error: 28746.2930 - val_mean_absolute_percentage_error: 28.2849 - lr: 0.0010\n",
      "Epoch 22/100\n",
      "12164/12164 [==============================] - 9s 709us/step - loss: 0.1398 - mean_squared_error: 31620.9883 - mean_absolute_percentage_error: 30.8376 - val_loss: 0.1193 - val_mean_squared_error: 28231.5176 - val_mean_absolute_percentage_error: 28.3588 - lr: 0.0010\n",
      "Epoch 23/100\n",
      "12164/12164 [==============================] - 9s 710us/step - loss: 0.1380 - mean_squared_error: 31335.5938 - mean_absolute_percentage_error: 30.5833 - val_loss: 0.1186 - val_mean_squared_error: 26908.9668 - val_mean_absolute_percentage_error: 27.9724 - lr: 0.0010\n",
      "Epoch 24/100\n",
      "12164/12164 [==============================] - 9s 709us/step - loss: 0.1363 - mean_squared_error: 31196.5273 - mean_absolute_percentage_error: 30.3496 - val_loss: 0.1177 - val_mean_squared_error: 27277.5000 - val_mean_absolute_percentage_error: 28.2872 - lr: 0.0010\n",
      "Epoch 25/100\n",
      "12164/12164 [==============================] - 9s 706us/step - loss: 0.1341 - mean_squared_error: 30873.5820 - mean_absolute_percentage_error: 30.0399 - val_loss: 0.1181 - val_mean_squared_error: 27122.3730 - val_mean_absolute_percentage_error: 28.3798 - lr: 0.0010\n",
      "Epoch 26/100\n",
      "12164/12164 [==============================] - 9s 707us/step - loss: 0.1332 - mean_squared_error: 30625.6328 - mean_absolute_percentage_error: 29.9122 - val_loss: 0.1148 - val_mean_squared_error: 26192.4336 - val_mean_absolute_percentage_error: 27.8929 - lr: 0.0010\n",
      "Epoch 27/100\n",
      "12164/12164 [==============================] - 9s 709us/step - loss: 0.1318 - mean_squared_error: 30483.6055 - mean_absolute_percentage_error: 29.7050 - val_loss: 0.1143 - val_mean_squared_error: 27459.6211 - val_mean_absolute_percentage_error: 27.7821 - lr: 0.0010\n",
      "Epoch 28/100\n",
      "12164/12164 [==============================] - 9s 711us/step - loss: 0.1303 - mean_squared_error: 30142.0039 - mean_absolute_percentage_error: 29.4629 - val_loss: 0.1151 - val_mean_squared_error: 26333.6992 - val_mean_absolute_percentage_error: 28.4485 - lr: 0.0010\n",
      "Epoch 29/100\n",
      "12164/12164 [==============================] - 9s 710us/step - loss: 0.1289 - mean_squared_error: 30022.2402 - mean_absolute_percentage_error: 29.2357 - val_loss: 0.1114 - val_mean_squared_error: 25189.7227 - val_mean_absolute_percentage_error: 27.4850 - lr: 0.0010\n",
      "Epoch 30/100\n",
      "12164/12164 [==============================] - 9s 707us/step - loss: 0.1275 - mean_squared_error: 29815.2598 - mean_absolute_percentage_error: 29.0333 - val_loss: 0.1092 - val_mean_squared_error: 25981.0430 - val_mean_absolute_percentage_error: 26.5115 - lr: 0.0010\n",
      "Epoch 31/100\n"
     ]
    },
    {
     "name": "stdout",
     "output_type": "stream",
     "text": [
      "12164/12164 [==============================] - 8s 689us/step - loss: 0.1263 - mean_squared_error: 29678.8848 - mean_absolute_percentage_error: 28.8735 - val_loss: 0.1107 - val_mean_squared_error: 26090.5996 - val_mean_absolute_percentage_error: 26.9943 - lr: 0.0010\n",
      "Epoch 32/100\n",
      "12164/12164 [==============================] - 8s 690us/step - loss: 0.1249 - mean_squared_error: 29339.6484 - mean_absolute_percentage_error: 28.6515 - val_loss: 0.1074 - val_mean_squared_error: 25675.0996 - val_mean_absolute_percentage_error: 26.1990 - lr: 0.0010\n",
      "Epoch 33/100\n",
      "12164/12164 [==============================] - 8s 688us/step - loss: 0.1243 - mean_squared_error: 29187.0918 - mean_absolute_percentage_error: 28.5716 - val_loss: 0.1099 - val_mean_squared_error: 25078.9023 - val_mean_absolute_percentage_error: 27.7171 - lr: 0.0010\n",
      "Epoch 34/100\n",
      "12164/12164 [==============================] - 8s 690us/step - loss: 0.1232 - mean_squared_error: 29021.7207 - mean_absolute_percentage_error: 28.3766 - val_loss: 0.1069 - val_mean_squared_error: 26152.3945 - val_mean_absolute_percentage_error: 26.3498 - lr: 0.0010\n",
      "Epoch 35/100\n",
      "12164/12164 [==============================] - 8s 691us/step - loss: 0.1224 - mean_squared_error: 28916.2578 - mean_absolute_percentage_error: 28.2603 - val_loss: 0.1060 - val_mean_squared_error: 24747.8086 - val_mean_absolute_percentage_error: 26.1928 - lr: 0.0010\n",
      "Epoch 36/100\n",
      "12164/12164 [==============================] - 8s 690us/step - loss: 0.1219 - mean_squared_error: 28886.5312 - mean_absolute_percentage_error: 28.1769 - val_loss: 0.1052 - val_mean_squared_error: 24523.9648 - val_mean_absolute_percentage_error: 26.3719 - lr: 0.0010\n",
      "Epoch 37/100\n",
      "12164/12164 [==============================] - 8s 692us/step - loss: 0.1214 - mean_squared_error: 28749.8555 - mean_absolute_percentage_error: 28.1041 - val_loss: 0.1042 - val_mean_squared_error: 25553.5156 - val_mean_absolute_percentage_error: 25.9763 - lr: 0.0010\n",
      "Epoch 38/100\n",
      "12164/12164 [==============================] - 8s 699us/step - loss: 0.1206 - mean_squared_error: 28699.9590 - mean_absolute_percentage_error: 27.9824 - val_loss: 0.1045 - val_mean_squared_error: 24318.4922 - val_mean_absolute_percentage_error: 26.2662 - lr: 0.0010\n",
      "Epoch 39/100\n",
      "12164/12164 [==============================] - 8s 683us/step - loss: 0.1202 - mean_squared_error: 28619.4551 - mean_absolute_percentage_error: 27.9084 - val_loss: 0.1050 - val_mean_squared_error: 24359.1211 - val_mean_absolute_percentage_error: 26.6818 - lr: 0.0010\n",
      "Epoch 40/100\n",
      "12164/12164 [==============================] - 8s 686us/step - loss: 0.1191 - mean_squared_error: 28286.1387 - mean_absolute_percentage_error: 27.7701 - val_loss: 0.1039 - val_mean_squared_error: 25345.2148 - val_mean_absolute_percentage_error: 25.9231 - lr: 0.0010\n",
      "Epoch 41/100\n",
      "12164/12164 [==============================] - 8s 691us/step - loss: 0.1190 - mean_squared_error: 28379.5703 - mean_absolute_percentage_error: 27.7429 - val_loss: 0.1040 - val_mean_squared_error: 24972.8184 - val_mean_absolute_percentage_error: 25.7795 - lr: 0.0010\n",
      "Epoch 42/100\n",
      "12164/12164 [==============================] - 8s 686us/step - loss: 0.1184 - mean_squared_error: 28262.4590 - mean_absolute_percentage_error: 27.6532 - val_loss: 0.1016 - val_mean_squared_error: 24641.6406 - val_mean_absolute_percentage_error: 25.2849 - lr: 0.0010\n",
      "Epoch 43/100\n",
      "12164/12164 [==============================] - 8s 687us/step - loss: 0.1181 - mean_squared_error: 28327.4707 - mean_absolute_percentage_error: 27.6188 - val_loss: 0.1067 - val_mean_squared_error: 24551.0293 - val_mean_absolute_percentage_error: 27.0971 - lr: 0.0010\n",
      "Epoch 44/100\n",
      "12164/12164 [==============================] - 8s 692us/step - loss: 0.1172 - mean_squared_error: 28091.2402 - mean_absolute_percentage_error: 27.4764 - val_loss: 0.1031 - val_mean_squared_error: 24903.2070 - val_mean_absolute_percentage_error: 26.1310 - lr: 0.0010\n",
      "Epoch 45/100\n",
      "12164/12164 [==============================] - 8s 694us/step - loss: 0.1168 - mean_squared_error: 28014.5645 - mean_absolute_percentage_error: 27.4293 - val_loss: 0.1006 - val_mean_squared_error: 23866.7969 - val_mean_absolute_percentage_error: 25.5957 - lr: 0.0010\n",
      "Epoch 46/100\n",
      "12164/12164 [==============================] - 8s 685us/step - loss: 0.1165 - mean_squared_error: 27951.8633 - mean_absolute_percentage_error: 27.3704 - val_loss: 0.1001 - val_mean_squared_error: 23705.5488 - val_mean_absolute_percentage_error: 25.1908 - lr: 0.0010\n",
      "Epoch 47/100\n",
      "12164/12164 [==============================] - 8s 690us/step - loss: 0.1163 - mean_squared_error: 27862.9980 - mean_absolute_percentage_error: 27.3322 - val_loss: 0.1012 - val_mean_squared_error: 25342.7715 - val_mean_absolute_percentage_error: 25.3677 - lr: 0.0010\n",
      "Epoch 48/100\n",
      "12164/12164 [==============================] - 8s 686us/step - loss: 0.1160 - mean_squared_error: 27986.4863 - mean_absolute_percentage_error: 27.2847 - val_loss: 0.1012 - val_mean_squared_error: 23847.2539 - val_mean_absolute_percentage_error: 25.3972 - lr: 0.0010\n",
      "Epoch 49/100\n",
      "12164/12164 [==============================] - 8s 699us/step - loss: 0.1151 - mean_squared_error: 27603.8750 - mean_absolute_percentage_error: 27.1351 - val_loss: 0.1000 - val_mean_squared_error: 25478.6250 - val_mean_absolute_percentage_error: 24.9250 - lr: 0.0010\n",
      "Epoch 50/100\n",
      "12164/12164 [==============================] - 8s 687us/step - loss: 0.1149 - mean_squared_error: 27878.3809 - mean_absolute_percentage_error: 27.1083 - val_loss: 0.1013 - val_mean_squared_error: 23615.2012 - val_mean_absolute_percentage_error: 25.9923 - lr: 0.0010\n",
      "Epoch 51/100\n",
      "12164/12164 [==============================] - 8s 688us/step - loss: 0.1146 - mean_squared_error: 27569.0605 - mean_absolute_percentage_error: 27.0663 - val_loss: 0.0993 - val_mean_squared_error: 23564.5449 - val_mean_absolute_percentage_error: 25.3341 - lr: 0.0010\n",
      "Epoch 52/100\n",
      "12164/12164 [==============================] - 8s 688us/step - loss: 0.1138 - mean_squared_error: 27469.0215 - mean_absolute_percentage_error: 26.9381 - val_loss: 0.1015 - val_mean_squared_error: 24796.4277 - val_mean_absolute_percentage_error: 25.2469 - lr: 0.0010\n",
      "Epoch 53/100\n",
      "12164/12164 [==============================] - 8s 688us/step - loss: 0.1136 - mean_squared_error: 27569.3320 - mean_absolute_percentage_error: 26.9292 - val_loss: 0.1005 - val_mean_squared_error: 24591.5762 - val_mean_absolute_percentage_error: 25.4986 - lr: 0.0010\n",
      "Epoch 54/100\n",
      "12164/12164 [==============================] - 8s 695us/step - loss: 0.1132 - mean_squared_error: 27536.9531 - mean_absolute_percentage_error: 26.8764 - val_loss: 0.0988 - val_mean_squared_error: 23956.6992 - val_mean_absolute_percentage_error: 24.7733 - lr: 0.0010\n",
      "Epoch 55/100\n",
      "12164/12164 [==============================] - 8s 693us/step - loss: 0.1128 - mean_squared_error: 27278.5508 - mean_absolute_percentage_error: 26.7769 - val_loss: 0.0973 - val_mean_squared_error: 23419.4551 - val_mean_absolute_percentage_error: 24.8238 - lr: 0.0010\n",
      "Epoch 56/100\n",
      "12164/12164 [==============================] - 8s 696us/step - loss: 0.1126 - mean_squared_error: 27493.8242 - mean_absolute_percentage_error: 26.7776 - val_loss: 0.0998 - val_mean_squared_error: 23829.5996 - val_mean_absolute_percentage_error: 25.2304 - lr: 0.0010\n",
      "Epoch 57/100\n",
      "12164/12164 [==============================] - 8s 691us/step - loss: 0.1121 - mean_squared_error: 27261.2520 - mean_absolute_percentage_error: 26.6993 - val_loss: 0.0985 - val_mean_squared_error: 24138.9297 - val_mean_absolute_percentage_error: 24.6903 - lr: 0.0010\n",
      "Epoch 58/100\n",
      "12164/12164 [==============================] - 8s 690us/step - loss: 0.1122 - mean_squared_error: 27440.9863 - mean_absolute_percentage_error: 26.7015 - val_loss: 0.0972 - val_mean_squared_error: 24058.0527 - val_mean_absolute_percentage_error: 24.5267 - lr: 0.0010\n",
      "Epoch 59/100\n",
      "12164/12164 [==============================] - 8s 696us/step - loss: 0.1119 - mean_squared_error: 27228.5742 - mean_absolute_percentage_error: 26.6667 - val_loss: 0.0970 - val_mean_squared_error: 23424.8867 - val_mean_absolute_percentage_error: 24.6769 - lr: 0.0010\n",
      "Epoch 60/100\n"
     ]
    },
    {
     "name": "stdout",
     "output_type": "stream",
     "text": [
      "12164/12164 [==============================] - 8s 679us/step - loss: 0.1115 - mean_squared_error: 27266.9980 - mean_absolute_percentage_error: 26.5891 - val_loss: 0.0983 - val_mean_squared_error: 23895.2578 - val_mean_absolute_percentage_error: 24.7867 - lr: 0.0010\n",
      "Epoch 61/100\n",
      "12164/12164 [==============================] - 8s 685us/step - loss: 0.1113 - mean_squared_error: 27178.3066 - mean_absolute_percentage_error: 26.5470 - val_loss: 0.0969 - val_mean_squared_error: 24207.0957 - val_mean_absolute_percentage_error: 24.3761 - lr: 0.0010\n",
      "Epoch 62/100\n",
      "12164/12164 [==============================] - 8s 682us/step - loss: 0.1109 - mean_squared_error: 27079.5957 - mean_absolute_percentage_error: 26.5063 - val_loss: 0.0979 - val_mean_squared_error: 23232.4570 - val_mean_absolute_percentage_error: 25.0702 - lr: 0.0010\n",
      "Epoch 63/100\n",
      "12164/12164 [==============================] - 8s 687us/step - loss: 0.1059 - mean_squared_error: 26031.8574 - mean_absolute_percentage_error: 25.7327 - val_loss: 0.0917 - val_mean_squared_error: 22873.5039 - val_mean_absolute_percentage_error: 23.6087 - lr: 2.0000e-04\n",
      "Epoch 64/100\n",
      "12164/12164 [==============================] - 8s 687us/step - loss: 0.1048 - mean_squared_error: 25740.1465 - mean_absolute_percentage_error: 25.5777 - val_loss: 0.0918 - val_mean_squared_error: 22559.3145 - val_mean_absolute_percentage_error: 23.8610 - lr: 2.0000e-04\n",
      "Epoch 65/100\n",
      "12164/12164 [==============================] - 8s 680us/step - loss: 0.1048 - mean_squared_error: 25922.8750 - mean_absolute_percentage_error: 25.5609 - val_loss: 0.0916 - val_mean_squared_error: 22396.3438 - val_mean_absolute_percentage_error: 23.9506 - lr: 2.0000e-04\n",
      "Epoch 66/100\n",
      "12164/12164 [==============================] - 8s 679us/step - loss: 0.1044 - mean_squared_error: 25691.6582 - mean_absolute_percentage_error: 25.5164 - val_loss: 0.0910 - val_mean_squared_error: 22574.8457 - val_mean_absolute_percentage_error: 23.5192 - lr: 2.0000e-04\n",
      "Epoch 67/100\n",
      "12164/12164 [==============================] - 8s 675us/step - loss: 0.1044 - mean_squared_error: 25623.3340 - mean_absolute_percentage_error: 25.4934 - val_loss: 0.0909 - val_mean_squared_error: 22239.6523 - val_mean_absolute_percentage_error: 23.7436 - lr: 2.0000e-04\n",
      "Epoch 68/100\n",
      "12164/12164 [==============================] - 8s 675us/step - loss: 0.1045 - mean_squared_error: 25594.5625 - mean_absolute_percentage_error: 25.5302 - val_loss: 0.0911 - val_mean_squared_error: 22325.8164 - val_mean_absolute_percentage_error: 23.6437 - lr: 2.0000e-04\n",
      "Epoch 69/100\n",
      "12164/12164 [==============================] - 8s 676us/step - loss: 0.1042 - mean_squared_error: 25678.7422 - mean_absolute_percentage_error: 25.4706 - val_loss: 0.0908 - val_mean_squared_error: 22611.2832 - val_mean_absolute_percentage_error: 23.6659 - lr: 2.0000e-04\n",
      "Epoch 70/100\n",
      "12164/12164 [==============================] - 8s 678us/step - loss: 0.1040 - mean_squared_error: 25598.1738 - mean_absolute_percentage_error: 25.4428 - val_loss: 0.0908 - val_mean_squared_error: 22306.9961 - val_mean_absolute_percentage_error: 23.5679 - lr: 2.0000e-04\n",
      "Epoch 71/100\n",
      "12164/12164 [==============================] - 8s 672us/step - loss: 0.1038 - mean_squared_error: 25467.9590 - mean_absolute_percentage_error: 25.4257 - val_loss: 0.0908 - val_mean_squared_error: 22705.7363 - val_mean_absolute_percentage_error: 23.3961 - lr: 2.0000e-04\n",
      "Epoch 72/100\n",
      "12164/12164 [==============================] - 8s 675us/step - loss: 0.1039 - mean_squared_error: 25509.3203 - mean_absolute_percentage_error: 25.4224 - val_loss: 0.0909 - val_mean_squared_error: 22137.2637 - val_mean_absolute_percentage_error: 23.7001 - lr: 2.0000e-04\n",
      "Epoch 73/100\n",
      "12164/12164 [==============================] - 8s 676us/step - loss: 0.1031 - mean_squared_error: 25429.3418 - mean_absolute_percentage_error: 25.3087 - val_loss: 0.0901 - val_mean_squared_error: 22071.9141 - val_mean_absolute_percentage_error: 23.4696 - lr: 1.0000e-04\n",
      "Epoch 74/100\n",
      "12164/12164 [==============================] - 8s 678us/step - loss: 0.1029 - mean_squared_error: 25330.0098 - mean_absolute_percentage_error: 25.2640 - val_loss: 0.0902 - val_mean_squared_error: 22029.7871 - val_mean_absolute_percentage_error: 23.6293 - lr: 1.0000e-04\n",
      "Epoch 75/100\n",
      "12164/12164 [==============================] - 8s 674us/step - loss: 0.1029 - mean_squared_error: 25342.3965 - mean_absolute_percentage_error: 25.2615 - val_loss: 0.0901 - val_mean_squared_error: 22262.3809 - val_mean_absolute_percentage_error: 23.5384 - lr: 1.0000e-04\n",
      "Epoch 76/100\n",
      "12164/12164 [==============================] - 8s 676us/step - loss: 0.1028 - mean_squared_error: 25355.6621 - mean_absolute_percentage_error: 25.2809 - val_loss: 0.0905 - val_mean_squared_error: 22129.0000 - val_mean_absolute_percentage_error: 23.7745 - lr: 1.0000e-04\n",
      "Epoch 77/100\n",
      "12164/12164 [==============================] - 8s 674us/step - loss: 0.1028 - mean_squared_error: 25419.2852 - mean_absolute_percentage_error: 25.2550 - val_loss: 0.0903 - val_mean_squared_error: 22224.4805 - val_mean_absolute_percentage_error: 23.5591 - lr: 1.0000e-04\n",
      "Epoch 78/100\n",
      "12164/12164 [==============================] - 8s 677us/step - loss: 0.1028 - mean_squared_error: 25223.9648 - mean_absolute_percentage_error: 25.2691 - val_loss: 0.0899 - val_mean_squared_error: 22129.5605 - val_mean_absolute_percentage_error: 23.5170 - lr: 1.0000e-04\n",
      "Epoch 79/100\n",
      "12164/12164 [==============================] - 8s 679us/step - loss: 0.1028 - mean_squared_error: 25263.9473 - mean_absolute_percentage_error: 25.2703 - val_loss: 0.0899 - val_mean_squared_error: 22057.8145 - val_mean_absolute_percentage_error: 23.5197 - lr: 1.0000e-04\n",
      "Epoch 80/100\n",
      "12164/12164 [==============================] - 8s 677us/step - loss: 0.1028 - mean_squared_error: 25488.1504 - mean_absolute_percentage_error: 25.2740 - val_loss: 0.0900 - val_mean_squared_error: 22015.9727 - val_mean_absolute_percentage_error: 23.5919 - lr: 1.0000e-04\n",
      "Epoch 81/100\n",
      "12164/12164 [==============================] - 8s 675us/step - loss: 0.1026 - mean_squared_error: 25192.2031 - mean_absolute_percentage_error: 25.2208 - val_loss: 0.0899 - val_mean_squared_error: 22065.2031 - val_mean_absolute_percentage_error: 23.5073 - lr: 1.0000e-04\n",
      "Epoch 82/100\n",
      "12164/12164 [==============================] - 8s 677us/step - loss: 0.1028 - mean_squared_error: 25336.0215 - mean_absolute_percentage_error: 25.2571 - val_loss: 0.0898 - val_mean_squared_error: 22047.3613 - val_mean_absolute_percentage_error: 23.4949 - lr: 1.0000e-04\n",
      "Epoch 83/100\n",
      "12164/12164 [==============================] - 8s 682us/step - loss: 0.1024 - mean_squared_error: 25247.7070 - mean_absolute_percentage_error: 25.2205 - val_loss: 0.0897 - val_mean_squared_error: 22023.0254 - val_mean_absolute_percentage_error: 23.4860 - lr: 1.0000e-04\n",
      "Epoch 84/100\n",
      "12164/12164 [==============================] - 8s 675us/step - loss: 0.1027 - mean_squared_error: 25386.1172 - mean_absolute_percentage_error: 25.2497 - val_loss: 0.0898 - val_mean_squared_error: 21968.3086 - val_mean_absolute_percentage_error: 23.5253 - lr: 1.0000e-04\n",
      "Epoch 85/100\n",
      "12164/12164 [==============================] - 8s 676us/step - loss: 0.1023 - mean_squared_error: 25090.1035 - mean_absolute_percentage_error: 25.1811 - val_loss: 0.0899 - val_mean_squared_error: 22132.4277 - val_mean_absolute_percentage_error: 23.4236 - lr: 1.0000e-04\n",
      "Epoch 86/100\n",
      "12164/12164 [==============================] - 8s 696us/step - loss: 0.1025 - mean_squared_error: 25324.3164 - mean_absolute_percentage_error: 25.2131 - val_loss: 0.0897 - val_mean_squared_error: 22100.0762 - val_mean_absolute_percentage_error: 23.3821 - lr: 1.0000e-04\n",
      "Epoch 87/100\n",
      "12164/12164 [==============================] - 8s 677us/step - loss: 0.1023 - mean_squared_error: 25226.3301 - mean_absolute_percentage_error: 25.1964 - val_loss: 0.0896 - val_mean_squared_error: 22059.2129 - val_mean_absolute_percentage_error: 23.4786 - lr: 1.0000e-04\n",
      "Epoch 88/100\n",
      "12164/12164 [==============================] - 8s 683us/step - loss: 0.1023 - mean_squared_error: 25204.7754 - mean_absolute_percentage_error: 25.1819 - val_loss: 0.0896 - val_mean_squared_error: 22181.4004 - val_mean_absolute_percentage_error: 23.3741 - lr: 1.0000e-04\n",
      "Epoch 89/100\n"
     ]
    },
    {
     "name": "stdout",
     "output_type": "stream",
     "text": [
      "12164/12164 [==============================] - 8s 667us/step - loss: 0.1022 - mean_squared_error: 25213.4629 - mean_absolute_percentage_error: 25.1739 - val_loss: 0.0899 - val_mean_squared_error: 22158.0625 - val_mean_absolute_percentage_error: 23.5454 - lr: 1.0000e-04\n",
      "Epoch 90/100\n",
      "12164/12164 [==============================] - 8s 671us/step - loss: 0.1022 - mean_squared_error: 25184.7402 - mean_absolute_percentage_error: 25.1638 - val_loss: 0.0895 - val_mean_squared_error: 21978.8945 - val_mean_absolute_percentage_error: 23.3517 - lr: 1.0000e-04\n",
      "Epoch 91/100\n",
      "12164/12164 [==============================] - 8s 673us/step - loss: 0.1023 - mean_squared_error: 25257.5293 - mean_absolute_percentage_error: 25.1873 - val_loss: 0.0899 - val_mean_squared_error: 21965.3184 - val_mean_absolute_percentage_error: 23.5720 - lr: 1.0000e-04\n",
      "Epoch 92/100\n",
      "12164/12164 [==============================] - 8s 674us/step - loss: 0.1022 - mean_squared_error: 25241.3164 - mean_absolute_percentage_error: 25.1813 - val_loss: 0.0897 - val_mean_squared_error: 21918.4336 - val_mean_absolute_percentage_error: 23.5569 - lr: 1.0000e-04\n",
      "Epoch 93/100\n",
      "12164/12164 [==============================] - 8s 670us/step - loss: 0.1023 - mean_squared_error: 25197.8438 - mean_absolute_percentage_error: 25.1820 - val_loss: 0.0896 - val_mean_squared_error: 22016.7598 - val_mean_absolute_percentage_error: 23.4843 - lr: 1.0000e-04\n",
      "Epoch 94/100\n",
      "12164/12164 [==============================] - 8s 673us/step - loss: 0.1021 - mean_squared_error: 25219.2285 - mean_absolute_percentage_error: 25.1604 - val_loss: 0.0893 - val_mean_squared_error: 22058.6172 - val_mean_absolute_percentage_error: 23.4018 - lr: 1.0000e-04\n",
      "Epoch 95/100\n",
      "12164/12164 [==============================] - 8s 674us/step - loss: 0.1022 - mean_squared_error: 25055.6367 - mean_absolute_percentage_error: 25.1740 - val_loss: 0.0893 - val_mean_squared_error: 22020.2910 - val_mean_absolute_percentage_error: 23.3041 - lr: 1.0000e-04\n",
      "Epoch 96/100\n",
      "12164/12164 [==============================] - 8s 678us/step - loss: 0.1020 - mean_squared_error: 25320.2344 - mean_absolute_percentage_error: 25.1361 - val_loss: 0.0894 - val_mean_squared_error: 22045.4238 - val_mean_absolute_percentage_error: 23.2501 - lr: 1.0000e-04\n",
      "Epoch 97/100\n",
      "12164/12164 [==============================] - 8s 675us/step - loss: 0.1023 - mean_squared_error: 25159.4668 - mean_absolute_percentage_error: 25.1776 - val_loss: 0.0895 - val_mean_squared_error: 22112.7871 - val_mean_absolute_percentage_error: 23.4438 - lr: 1.0000e-04\n",
      "Epoch 98/100\n",
      "12164/12164 [==============================] - 8s 673us/step - loss: 0.1020 - mean_squared_error: 25207.5977 - mean_absolute_percentage_error: 25.1264 - val_loss: 0.0895 - val_mean_squared_error: 21906.8027 - val_mean_absolute_percentage_error: 23.5189 - lr: 1.0000e-04\n",
      "Epoch 99/100\n",
      "12164/12164 [==============================] - 8s 681us/step - loss: 0.1020 - mean_squared_error: 25155.9414 - mean_absolute_percentage_error: 25.1462 - val_loss: 0.0893 - val_mean_squared_error: 21822.7305 - val_mean_absolute_percentage_error: 23.4916 - lr: 1.0000e-04\n",
      "Epoch 100/100\n",
      "12164/12164 [==============================] - 8s 676us/step - loss: 0.1018 - mean_squared_error: 25112.5312 - mean_absolute_percentage_error: 25.1075 - val_loss: 0.0893 - val_mean_squared_error: 21864.1250 - val_mean_absolute_percentage_error: 23.4634 - lr: 1.0000e-04\n"
     ]
    },
    {
     "name": "stderr",
     "output_type": "stream",
     "text": [
      "WARNING:absl:At this time, the v2.11+ optimizer `tf.keras.optimizers.Adam` runs slowly on M1/M2 Macs, please use the legacy Keras optimizer instead, located at `tf.keras.optimizers.legacy.Adam`.\n"
     ]
    },
    {
     "name": "stdout",
     "output_type": "stream",
     "text": [
      "12164/12164 [==============================] - 4s 324us/step\n",
      "4055/4055 [==============================] - 1s 331us/step\n"
     ]
    },
    {
     "name": "stderr",
     "output_type": "stream",
     "text": [
      "wandb: WARNING Source type is set to 'repo' but some required information is missing from the environment. A job will not be created from this run. See https://docs.wandb.ai/guides/launch/create-job\n"
     ]
    },
    {
     "data": {
      "text/html": [
       "<style>\n",
       "    table.wandb td:nth-child(1) { padding: 0 10px; text-align: left ; width: auto;} td:nth-child(2) {text-align: left ; width: 100%}\n",
       "    .wandb-row { display: flex; flex-direction: row; flex-wrap: wrap; justify-content: flex-start; width: 100% }\n",
       "    .wandb-col { display: flex; flex-direction: column; flex-basis: 100%; flex: 1; padding: 10px; }\n",
       "    </style>\n",
       "<div class=\"wandb-row\"><div class=\"wandb-col\"><h3>Run history:</h3><br/><table class=\"wandb\"><tr><td>test_rmse</td><td>▁</td></tr><tr><td>train_rmse</td><td>▁</td></tr><tr><td>val_mse</td><td>█▆▅▅▄▃▃▂▂▂▂▂▂▂▂▂▂▂▁▂▁▁▁▁▁▁▁▁▁▁▁▁▁▁▁▁▁▁▁▁</td></tr></table><br/></div><div class=\"wandb-col\"><h3>Run summary:</h3><br/><table class=\"wandb\"><tr><td>test_rmse</td><td>147.72517</td></tr><tr><td>train_rmse</td><td>146.22525</td></tr><tr><td>val_mse</td><td>21864.125</td></tr></table><br/></div></div>"
      ],
      "text/plain": [
       "<IPython.core.display.HTML object>"
      ]
     },
     "metadata": {},
     "output_type": "display_data"
    },
    {
     "data": {
      "text/html": [
       " View run <strong style=\"color:#cdcd00\">dutiful-dew-15</strong> at: <a href='https://wandb.ai/kritika_23/adv_mla_at3/runs/h2qkaq5c' target=\"_blank\">https://wandb.ai/kritika_23/adv_mla_at3/runs/h2qkaq5c</a><br/>Synced 5 W&B file(s), 0 media file(s), 1 artifact file(s) and 0 other file(s)"
      ],
      "text/plain": [
       "<IPython.core.display.HTML object>"
      ]
     },
     "metadata": {},
     "output_type": "display_data"
    },
    {
     "data": {
      "text/html": [
       "Find logs at: <code>./wandb/run-20231108_154400-h2qkaq5c/logs</code>"
      ],
      "text/plain": [
       "<IPython.core.display.HTML object>"
      ]
     },
     "metadata": {},
     "output_type": "display_data"
    }
   ],
   "source": [
    "from train_model import train_and_evaluate_model\n",
    "train_and_evaluate_model(X_train_scaled, y_train, X_test_scaled, y_test, \"exp2_best_model.h5\")"
   ]
  },
  {
   "cell_type": "markdown",
   "id": "a981b28c",
   "metadata": {},
   "source": [
    "### Experiment 3 - Added extra hidden layer"
   ]
  },
  {
   "cell_type": "code",
   "execution_count": 8,
   "id": "9f794842",
   "metadata": {
    "scrolled": true
   },
   "outputs": [
    {
     "name": "stderr",
     "output_type": "stream",
     "text": [
      "Failed to detect the name of this notebook, you can set it manually with the WANDB_NOTEBOOK_NAME environment variable to enable code saving.\n",
      "\u001b[34m\u001b[1mwandb\u001b[0m: Currently logged in as: \u001b[33mkritz2399\u001b[0m (\u001b[33mkritika_23\u001b[0m). Use \u001b[1m`wandb login --relogin`\u001b[0m to force relogin\n"
     ]
    },
    {
     "data": {
      "text/html": [
       "Tracking run with wandb version 0.16.0"
      ],
      "text/plain": [
       "<IPython.core.display.HTML object>"
      ]
     },
     "metadata": {},
     "output_type": "display_data"
    },
    {
     "data": {
      "text/html": [
       "Run data is saved locally in <code>/Users/kritika/Desktop/MDSI/AMLA/adv_mla_at3/notebooks/Kritika/wandb/run-20231108_150620-qmqlfjn2</code>"
      ],
      "text/plain": [
       "<IPython.core.display.HTML object>"
      ]
     },
     "metadata": {},
     "output_type": "display_data"
    },
    {
     "data": {
      "text/html": [
       "Syncing run <strong><a href='https://wandb.ai/kritika_23/adv_mla_at3/runs/qmqlfjn2' target=\"_blank\">summer-shadow-13</a></strong> to <a href='https://wandb.ai/kritika_23/adv_mla_at3' target=\"_blank\">Weights & Biases</a> (<a href='https://wandb.me/run' target=\"_blank\">docs</a>)<br/>"
      ],
      "text/plain": [
       "<IPython.core.display.HTML object>"
      ]
     },
     "metadata": {},
     "output_type": "display_data"
    },
    {
     "data": {
      "text/html": [
       " View project at <a href='https://wandb.ai/kritika_23/adv_mla_at3' target=\"_blank\">https://wandb.ai/kritika_23/adv_mla_at3</a>"
      ],
      "text/plain": [
       "<IPython.core.display.HTML object>"
      ]
     },
     "metadata": {},
     "output_type": "display_data"
    },
    {
     "data": {
      "text/html": [
       " View run at <a href='https://wandb.ai/kritika_23/adv_mla_at3/runs/qmqlfjn2' target=\"_blank\">https://wandb.ai/kritika_23/adv_mla_at3/runs/qmqlfjn2</a>"
      ],
      "text/plain": [
       "<IPython.core.display.HTML object>"
      ]
     },
     "metadata": {},
     "output_type": "display_data"
    },
    {
     "name": "stderr",
     "output_type": "stream",
     "text": [
      "WARNING:absl:At this time, the v2.11+ optimizer `tf.keras.optimizers.Adam` runs slowly on M1/M2 Macs, please use the legacy Keras optimizer instead, located at `tf.keras.optimizers.legacy.Adam`.\n"
     ]
    },
    {
     "name": "stdout",
     "output_type": "stream",
     "text": [
      "Epoch 1/100\n",
      "12164/12164 [==============================] - 9s 729us/step - loss: 0.4020 - mean_squared_error: 65696.6094 - mean_absolute_percentage_error: 47.2935 - val_loss: 0.2235 - val_mean_squared_error: 53178.5312 - val_mean_absolute_percentage_error: 43.2018 - lr: 0.0010\n",
      "Epoch 2/100\n",
      "  244/12164 [..............................] - ETA: 7s - loss: 0.2648 - mean_squared_error: 57635.6328 - mean_absolute_percentage_error: 45.9418"
     ]
    },
    {
     "name": "stderr",
     "output_type": "stream",
     "text": [
      "/Users/kritika/Library/Caches/pypoetry/virtualenvs/adv-mla-at3-NzhSlUn1-py3.9/lib/python3.9/site-packages/keras/src/engine/training.py:3079: UserWarning: You are saving your model as an HDF5 file via `model.save()`. This file format is considered legacy. We recommend using instead the native Keras format, e.g. `model.save('my_model.keras')`.\n",
      "  saving_api.save_model(\n"
     ]
    },
    {
     "name": "stdout",
     "output_type": "stream",
     "text": [
      "12164/12164 [==============================] - 9s 751us/step - loss: 0.2571 - mean_squared_error: 56657.7812 - mean_absolute_percentage_error: 44.9860 - val_loss: 0.2100 - val_mean_squared_error: 48079.7461 - val_mean_absolute_percentage_error: 40.0231 - lr: 0.0010\n",
      "Epoch 3/100\n",
      "12164/12164 [==============================] - 9s 768us/step - loss: 0.2441 - mean_squared_error: 49255.6836 - mean_absolute_percentage_error: 43.4431 - val_loss: 0.2023 - val_mean_squared_error: 41084.0156 - val_mean_absolute_percentage_error: 39.8869 - lr: 0.0010\n",
      "Epoch 4/100\n",
      "12164/12164 [==============================] - 10s 784us/step - loss: 0.2331 - mean_squared_error: 46263.8672 - mean_absolute_percentage_error: 42.1615 - val_loss: 0.1969 - val_mean_squared_error: 41577.9492 - val_mean_absolute_percentage_error: 38.5500 - lr: 0.0010\n",
      "Epoch 5/100\n",
      "12164/12164 [==============================] - 9s 731us/step - loss: 0.2253 - mean_squared_error: 45303.5547 - mean_absolute_percentage_error: 41.2494 - val_loss: 0.1938 - val_mean_squared_error: 38384.9180 - val_mean_absolute_percentage_error: 39.3304 - lr: 0.0010\n",
      "Epoch 6/100\n",
      "12164/12164 [==============================] - 9s 729us/step - loss: 0.2193 - mean_squared_error: 44460.5625 - mean_absolute_percentage_error: 40.4798 - val_loss: 0.1872 - val_mean_squared_error: 41814.0625 - val_mean_absolute_percentage_error: 35.8495 - lr: 0.0010\n",
      "Epoch 7/100\n",
      "12164/12164 [==============================] - 9s 726us/step - loss: 0.2066 - mean_squared_error: 42547.3867 - mean_absolute_percentage_error: 39.1005 - val_loss: 0.1642 - val_mean_squared_error: 34954.4961 - val_mean_absolute_percentage_error: 35.0352 - lr: 0.0010\n",
      "Epoch 8/100\n",
      "12164/12164 [==============================] - 9s 722us/step - loss: 0.1913 - mean_squared_error: 40434.4727 - mean_absolute_percentage_error: 37.3008 - val_loss: 0.1570 - val_mean_squared_error: 32449.7598 - val_mean_absolute_percentage_error: 34.9833 - lr: 0.0010\n",
      "Epoch 9/100\n",
      "12164/12164 [==============================] - 9s 730us/step - loss: 0.1811 - mean_squared_error: 38928.3828 - mean_absolute_percentage_error: 36.0732 - val_loss: 0.1456 - val_mean_squared_error: 33568.8867 - val_mean_absolute_percentage_error: 31.4103 - lr: 0.0010\n",
      "Epoch 10/100\n",
      "12164/12164 [==============================] - 9s 729us/step - loss: 0.1717 - mean_squared_error: 37404.6484 - mean_absolute_percentage_error: 34.9357 - val_loss: 0.1381 - val_mean_squared_error: 31094.3730 - val_mean_absolute_percentage_error: 31.1618 - lr: 0.0010\n",
      "Epoch 11/100\n",
      "12164/12164 [==============================] - 9s 726us/step - loss: 0.1653 - mean_squared_error: 36615.1367 - mean_absolute_percentage_error: 34.1210 - val_loss: 0.1326 - val_mean_squared_error: 30345.9492 - val_mean_absolute_percentage_error: 30.3031 - lr: 0.0010\n",
      "Epoch 12/100\n",
      "12164/12164 [==============================] - 9s 723us/step - loss: 0.1593 - mean_squared_error: 35673.0781 - mean_absolute_percentage_error: 33.2967 - val_loss: 0.1293 - val_mean_squared_error: 30873.1895 - val_mean_absolute_percentage_error: 29.4855 - lr: 0.0010\n",
      "Epoch 13/100\n",
      "12164/12164 [==============================] - 9s 731us/step - loss: 0.1555 - mean_squared_error: 34815.2969 - mean_absolute_percentage_error: 32.8108 - val_loss: 0.1230 - val_mean_squared_error: 28927.0078 - val_mean_absolute_percentage_error: 28.4533 - lr: 0.0010\n",
      "Epoch 14/100\n",
      "12164/12164 [==============================] - 9s 730us/step - loss: 0.1523 - mean_squared_error: 34538.4609 - mean_absolute_percentage_error: 32.3278 - val_loss: 0.1218 - val_mean_squared_error: 29555.2500 - val_mean_absolute_percentage_error: 28.4078 - lr: 0.0010\n",
      "Epoch 15/100\n",
      "12164/12164 [==============================] - 9s 722us/step - loss: 0.1484 - mean_squared_error: 33888.6250 - mean_absolute_percentage_error: 31.7601 - val_loss: 0.1176 - val_mean_squared_error: 27607.6133 - val_mean_absolute_percentage_error: 27.6408 - lr: 0.0010\n",
      "Epoch 16/100\n",
      "12164/12164 [==============================] - 9s 726us/step - loss: 0.1455 - mean_squared_error: 33520.4570 - mean_absolute_percentage_error: 31.3557 - val_loss: 0.1136 - val_mean_squared_error: 26967.8945 - val_mean_absolute_percentage_error: 27.4827 - lr: 0.0010\n",
      "Epoch 17/100\n",
      "12164/12164 [==============================] - 9s 742us/step - loss: 0.1427 - mean_squared_error: 32943.8555 - mean_absolute_percentage_error: 30.9448 - val_loss: 0.1139 - val_mean_squared_error: 25505.5508 - val_mean_absolute_percentage_error: 28.3966 - lr: 0.0010\n",
      "Epoch 18/100\n",
      "12164/12164 [==============================] - 9s 729us/step - loss: 0.1397 - mean_squared_error: 32506.1367 - mean_absolute_percentage_error: 30.5447 - val_loss: 0.1121 - val_mean_squared_error: 27021.0938 - val_mean_absolute_percentage_error: 27.1807 - lr: 0.0010\n",
      "Epoch 19/100\n",
      "12164/12164 [==============================] - 9s 726us/step - loss: 0.1380 - mean_squared_error: 32311.0000 - mean_absolute_percentage_error: 30.2617 - val_loss: 0.1086 - val_mean_squared_error: 26472.2090 - val_mean_absolute_percentage_error: 26.6652 - lr: 0.0010\n",
      "Epoch 20/100\n",
      "12164/12164 [==============================] - 9s 721us/step - loss: 0.1358 - mean_squared_error: 31813.2578 - mean_absolute_percentage_error: 29.9547 - val_loss: 0.1092 - val_mean_squared_error: 27079.4922 - val_mean_absolute_percentage_error: 26.4450 - lr: 0.0010\n",
      "Epoch 21/100\n",
      "12164/12164 [==============================] - 9s 741us/step - loss: 0.1338 - mean_squared_error: 31419.4238 - mean_absolute_percentage_error: 29.6721 - val_loss: 0.1078 - val_mean_squared_error: 25865.5137 - val_mean_absolute_percentage_error: 26.2613 - lr: 0.0010\n",
      "Epoch 22/100\n",
      "12164/12164 [==============================] - 9s 724us/step - loss: 0.1326 - mean_squared_error: 31467.3809 - mean_absolute_percentage_error: 29.5031 - val_loss: 0.1071 - val_mean_squared_error: 25712.3809 - val_mean_absolute_percentage_error: 26.1491 - lr: 0.0010\n",
      "Epoch 23/100\n",
      "12164/12164 [==============================] - 9s 738us/step - loss: 0.1311 - mean_squared_error: 31115.8984 - mean_absolute_percentage_error: 29.2628 - val_loss: 0.1053 - val_mean_squared_error: 25932.5156 - val_mean_absolute_percentage_error: 25.5769 - lr: 0.0010\n",
      "Epoch 24/100\n",
      "12164/12164 [==============================] - 9s 718us/step - loss: 0.1303 - mean_squared_error: 31173.1777 - mean_absolute_percentage_error: 29.1585 - val_loss: 0.1057 - val_mean_squared_error: 25344.8750 - val_mean_absolute_percentage_error: 26.2229 - lr: 0.0010\n",
      "Epoch 25/100\n",
      "12164/12164 [==============================] - 9s 721us/step - loss: 0.1290 - mean_squared_error: 31016.4902 - mean_absolute_percentage_error: 28.9710 - val_loss: 0.1070 - val_mean_squared_error: 25984.9199 - val_mean_absolute_percentage_error: 25.9166 - lr: 0.0010\n",
      "Epoch 26/100\n",
      "12164/12164 [==============================] - 9s 727us/step - loss: 0.1285 - mean_squared_error: 30797.0410 - mean_absolute_percentage_error: 28.8943 - val_loss: 0.1042 - val_mean_squared_error: 25225.9102 - val_mean_absolute_percentage_error: 25.7327 - lr: 0.0010\n",
      "Epoch 27/100\n",
      "12164/12164 [==============================] - 9s 729us/step - loss: 0.1267 - mean_squared_error: 30461.0410 - mean_absolute_percentage_error: 28.6492 - val_loss: 0.1053 - val_mean_squared_error: 25866.5234 - val_mean_absolute_percentage_error: 25.7847 - lr: 0.0010\n",
      "Epoch 28/100\n",
      "12164/12164 [==============================] - 9s 725us/step - loss: 0.1262 - mean_squared_error: 30282.2148 - mean_absolute_percentage_error: 28.5673 - val_loss: 0.1029 - val_mean_squared_error: 25665.7773 - val_mean_absolute_percentage_error: 25.3194 - lr: 0.0010\n",
      "Epoch 29/100\n",
      "12164/12164 [==============================] - 9s 722us/step - loss: 0.1247 - mean_squared_error: 30164.9258 - mean_absolute_percentage_error: 28.3748 - val_loss: 0.1026 - val_mean_squared_error: 24858.7539 - val_mean_absolute_percentage_error: 25.3831 - lr: 0.0010\n",
      "Epoch 30/100\n",
      "12164/12164 [==============================] - 9s 735us/step - loss: 0.1243 - mean_squared_error: 29898.6836 - mean_absolute_percentage_error: 28.3097 - val_loss: 0.1059 - val_mean_squared_error: 26554.2227 - val_mean_absolute_percentage_error: 25.9111 - lr: 0.0010\n",
      "Epoch 31/100\n"
     ]
    },
    {
     "name": "stdout",
     "output_type": "stream",
     "text": [
      "12164/12164 [==============================] - 9s 727us/step - loss: 0.1236 - mean_squared_error: 30013.8691 - mean_absolute_percentage_error: 28.1943 - val_loss: 0.1054 - val_mean_squared_error: 26335.6758 - val_mean_absolute_percentage_error: 25.4250 - lr: 0.0010\n",
      "Epoch 32/100\n",
      "12164/12164 [==============================] - 9s 721us/step - loss: 0.1230 - mean_squared_error: 29947.0332 - mean_absolute_percentage_error: 28.0983 - val_loss: 0.1026 - val_mean_squared_error: 25157.5332 - val_mean_absolute_percentage_error: 25.3693 - lr: 0.0010\n",
      "Epoch 33/100\n",
      "12164/12164 [==============================] - 9s 722us/step - loss: 0.1171 - mean_squared_error: 28669.3633 - mean_absolute_percentage_error: 27.2561 - val_loss: 0.0983 - val_mean_squared_error: 24924.0762 - val_mean_absolute_percentage_error: 24.4696 - lr: 2.0000e-04\n",
      "Epoch 34/100\n",
      "12164/12164 [==============================] - 9s 720us/step - loss: 0.1164 - mean_squared_error: 28499.3516 - mean_absolute_percentage_error: 27.1598 - val_loss: 0.0967 - val_mean_squared_error: 23455.0840 - val_mean_absolute_percentage_error: 24.5016 - lr: 2.0000e-04\n",
      "Epoch 35/100\n",
      "12164/12164 [==============================] - 9s 713us/step - loss: 0.1159 - mean_squared_error: 28435.4922 - mean_absolute_percentage_error: 27.0942 - val_loss: 0.0972 - val_mean_squared_error: 24375.7344 - val_mean_absolute_percentage_error: 24.2960 - lr: 2.0000e-04\n",
      "Epoch 36/100\n",
      "12164/12164 [==============================] - 9s 718us/step - loss: 0.1157 - mean_squared_error: 28331.5430 - mean_absolute_percentage_error: 27.0384 - val_loss: 0.0967 - val_mean_squared_error: 23930.9395 - val_mean_absolute_percentage_error: 24.2248 - lr: 2.0000e-04\n",
      "Epoch 37/100\n",
      "12164/12164 [==============================] - 9s 723us/step - loss: 0.1154 - mean_squared_error: 28323.8984 - mean_absolute_percentage_error: 27.0081 - val_loss: 0.0964 - val_mean_squared_error: 23892.1406 - val_mean_absolute_percentage_error: 24.3646 - lr: 2.0000e-04\n",
      "Epoch 38/100\n",
      "12164/12164 [==============================] - 9s 720us/step - loss: 0.1154 - mean_squared_error: 28406.5098 - mean_absolute_percentage_error: 26.9863 - val_loss: 0.0977 - val_mean_squared_error: 24573.7754 - val_mean_absolute_percentage_error: 24.4012 - lr: 2.0000e-04\n",
      "Epoch 39/100\n",
      "12164/12164 [==============================] - 9s 724us/step - loss: 0.1152 - mean_squared_error: 27958.7422 - mean_absolute_percentage_error: 26.9934 - val_loss: 0.0973 - val_mean_squared_error: 24593.8535 - val_mean_absolute_percentage_error: 24.2559 - lr: 2.0000e-04\n",
      "Epoch 40/100\n",
      "12164/12164 [==============================] - 9s 723us/step - loss: 0.1146 - mean_squared_error: 28027.2852 - mean_absolute_percentage_error: 26.8800 - val_loss: 0.0966 - val_mean_squared_error: 23369.7148 - val_mean_absolute_percentage_error: 24.6243 - lr: 2.0000e-04\n",
      "Epoch 41/100\n",
      "12164/12164 [==============================] - 9s 716us/step - loss: 0.1137 - mean_squared_error: 27811.7324 - mean_absolute_percentage_error: 26.7720 - val_loss: 0.0961 - val_mean_squared_error: 23943.7676 - val_mean_absolute_percentage_error: 24.2361 - lr: 1.0000e-04\n",
      "Epoch 42/100\n",
      "12164/12164 [==============================] - 9s 708us/step - loss: 0.1137 - mean_squared_error: 27846.9746 - mean_absolute_percentage_error: 26.7595 - val_loss: 0.0956 - val_mean_squared_error: 23867.0977 - val_mean_absolute_percentage_error: 24.1449 - lr: 1.0000e-04\n",
      "Epoch 43/100\n",
      "12164/12164 [==============================] - 9s 706us/step - loss: 0.1137 - mean_squared_error: 27898.9062 - mean_absolute_percentage_error: 26.7299 - val_loss: 0.0957 - val_mean_squared_error: 23568.8750 - val_mean_absolute_percentage_error: 24.2556 - lr: 1.0000e-04\n",
      "Epoch 44/100\n",
      "12164/12164 [==============================] - 9s 729us/step - loss: 0.1135 - mean_squared_error: 27858.4668 - mean_absolute_percentage_error: 26.7175 - val_loss: 0.0956 - val_mean_squared_error: 23735.4473 - val_mean_absolute_percentage_error: 24.1768 - lr: 1.0000e-04\n",
      "Epoch 45/100\n",
      "12164/12164 [==============================] - 9s 718us/step - loss: 0.1133 - mean_squared_error: 27716.4121 - mean_absolute_percentage_error: 26.6919 - val_loss: 0.0954 - val_mean_squared_error: 23767.9453 - val_mean_absolute_percentage_error: 24.0614 - lr: 1.0000e-04\n",
      "Epoch 46/100\n",
      "12164/12164 [==============================] - 9s 713us/step - loss: 0.1137 - mean_squared_error: 27849.9219 - mean_absolute_percentage_error: 26.7219 - val_loss: 0.0954 - val_mean_squared_error: 23457.1699 - val_mean_absolute_percentage_error: 24.1154 - lr: 1.0000e-04\n",
      "Epoch 47/100\n",
      "12164/12164 [==============================] - 9s 716us/step - loss: 0.1132 - mean_squared_error: 27797.6816 - mean_absolute_percentage_error: 26.6664 - val_loss: 0.0958 - val_mean_squared_error: 24041.8926 - val_mean_absolute_percentage_error: 24.0421 - lr: 1.0000e-04\n",
      "Epoch 48/100\n",
      "12164/12164 [==============================] - 9s 725us/step - loss: 0.1132 - mean_squared_error: 27726.5039 - mean_absolute_percentage_error: 26.6792 - val_loss: 0.0954 - val_mean_squared_error: 23652.3438 - val_mean_absolute_percentage_error: 24.2141 - lr: 1.0000e-04\n",
      "Epoch 49/100\n",
      "12164/12164 [==============================] - 9s 715us/step - loss: 0.1130 - mean_squared_error: 27769.5801 - mean_absolute_percentage_error: 26.6474 - val_loss: 0.0951 - val_mean_squared_error: 23766.4844 - val_mean_absolute_percentage_error: 23.9124 - lr: 1.0000e-04\n",
      "Epoch 50/100\n",
      "12164/12164 [==============================] - 9s 721us/step - loss: 0.1126 - mean_squared_error: 27532.2070 - mean_absolute_percentage_error: 26.6065 - val_loss: 0.0953 - val_mean_squared_error: 23752.3262 - val_mean_absolute_percentage_error: 24.0986 - lr: 1.0000e-04\n",
      "Epoch 51/100\n",
      "12164/12164 [==============================] - 9s 776us/step - loss: 0.1129 - mean_squared_error: 27768.0996 - mean_absolute_percentage_error: 26.6430 - val_loss: 0.0957 - val_mean_squared_error: 24293.8965 - val_mean_absolute_percentage_error: 23.9732 - lr: 1.0000e-04\n",
      "Epoch 52/100\n",
      "12164/12164 [==============================] - 9s 726us/step - loss: 0.1128 - mean_squared_error: 27627.2305 - mean_absolute_percentage_error: 26.6208 - val_loss: 0.0954 - val_mean_squared_error: 23845.1055 - val_mean_absolute_percentage_error: 23.9620 - lr: 1.0000e-04\n",
      "Epoch 53/100\n",
      "12164/12164 [==============================] - 9s 712us/step - loss: 0.1127 - mean_squared_error: 27614.3184 - mean_absolute_percentage_error: 26.5993 - val_loss: 0.0955 - val_mean_squared_error: 23527.5820 - val_mean_absolute_percentage_error: 24.2205 - lr: 1.0000e-04\n",
      "Epoch 54/100\n",
      "12164/12164 [==============================] - 9s 749us/step - loss: 0.1123 - mean_squared_error: 27610.9727 - mean_absolute_percentage_error: 26.5451 - val_loss: 0.0952 - val_mean_squared_error: 23733.8750 - val_mean_absolute_percentage_error: 24.0939 - lr: 1.0000e-04\n"
     ]
    },
    {
     "name": "stderr",
     "output_type": "stream",
     "text": [
      "WARNING:absl:At this time, the v2.11+ optimizer `tf.keras.optimizers.Adam` runs slowly on M1/M2 Macs, please use the legacy Keras optimizer instead, located at `tf.keras.optimizers.legacy.Adam`.\n"
     ]
    },
    {
     "name": "stdout",
     "output_type": "stream",
     "text": [
      "12164/12164 [==============================] - 4s 344us/step\n",
      "4055/4055 [==============================] - 1s 334us/step\n"
     ]
    },
    {
     "name": "stderr",
     "output_type": "stream",
     "text": [
      "wandb: WARNING Source type is set to 'repo' but some required information is missing from the environment. A job will not be created from this run. See https://docs.wandb.ai/guides/launch/create-job\n"
     ]
    },
    {
     "data": {
      "text/html": [
       "<style>\n",
       "    table.wandb td:nth-child(1) { padding: 0 10px; text-align: left ; width: auto;} td:nth-child(2) {text-align: left ; width: 100%}\n",
       "    .wandb-row { display: flex; flex-direction: row; flex-wrap: wrap; justify-content: flex-start; width: 100% }\n",
       "    .wandb-col { display: flex; flex-direction: column; flex-basis: 100%; flex: 1; padding: 10px; }\n",
       "    </style>\n",
       "<div class=\"wandb-row\"><div class=\"wandb-col\"><h3>Run history:</h3><br/><table class=\"wandb\"><tr><td>test_rmse</td><td>▁</td></tr><tr><td>train_rmse</td><td>▁</td></tr><tr><td>val_mse</td><td>█▇▅▅▅▄▃▃▃▂▂▂▂▂▂▂▂▁▂▁▂▁▂▁▁▁▁▁▁▁▁▁▁▁▁▁▁▁▁▁</td></tr></table><br/></div><div class=\"wandb-col\"><h3>Run summary:</h3><br/><table class=\"wandb\"><tr><td>test_rmse</td><td>154.16371</td></tr><tr><td>train_rmse</td><td>152.09752</td></tr><tr><td>val_mse</td><td>23733.875</td></tr></table><br/></div></div>"
      ],
      "text/plain": [
       "<IPython.core.display.HTML object>"
      ]
     },
     "metadata": {},
     "output_type": "display_data"
    },
    {
     "data": {
      "text/html": [
       " View run <strong style=\"color:#cdcd00\">summer-shadow-13</strong> at: <a href='https://wandb.ai/kritika_23/adv_mla_at3/runs/qmqlfjn2' target=\"_blank\">https://wandb.ai/kritika_23/adv_mla_at3/runs/qmqlfjn2</a><br/>Synced 5 W&B file(s), 0 media file(s), 1 artifact file(s) and 0 other file(s)"
      ],
      "text/plain": [
       "<IPython.core.display.HTML object>"
      ]
     },
     "metadata": {},
     "output_type": "display_data"
    },
    {
     "data": {
      "text/html": [
       "Find logs at: <code>./wandb/run-20231108_150620-qmqlfjn2/logs</code>"
      ],
      "text/plain": [
       "<IPython.core.display.HTML object>"
      ]
     },
     "metadata": {},
     "output_type": "display_data"
    }
   ],
   "source": [
    "from train_model import train_and_evaluate_model\n",
    "train_and_evaluate_model(X_train_scaled, y_train, X_test_scaled, y_test, \"exp3_best_model.h5\")"
   ]
  },
  {
   "cell_type": "markdown",
   "id": "240bd6e5",
   "metadata": {},
   "source": [
    "### Experiment 4 - Simply the model as complexity is increasing the error"
   ]
  },
  {
   "cell_type": "code",
   "execution_count": 8,
   "id": "f0dfc2bb",
   "metadata": {
    "scrolled": true
   },
   "outputs": [
    {
     "name": "stderr",
     "output_type": "stream",
     "text": [
      "Failed to detect the name of this notebook, you can set it manually with the WANDB_NOTEBOOK_NAME environment variable to enable code saving.\n",
      "\u001b[34m\u001b[1mwandb\u001b[0m: Currently logged in as: \u001b[33mkritz2399\u001b[0m (\u001b[33mkritika_23\u001b[0m). Use \u001b[1m`wandb login --relogin`\u001b[0m to force relogin\n"
     ]
    },
    {
     "data": {
      "text/html": [
       "Tracking run with wandb version 0.16.0"
      ],
      "text/plain": [
       "<IPython.core.display.HTML object>"
      ]
     },
     "metadata": {},
     "output_type": "display_data"
    },
    {
     "data": {
      "text/html": [
       "Run data is saved locally in <code>/Users/kritika/Desktop/MDSI/AMLA/adv_mla_at3/notebooks/Kritika/wandb/run-20231108_153018-om27id1y</code>"
      ],
      "text/plain": [
       "<IPython.core.display.HTML object>"
      ]
     },
     "metadata": {},
     "output_type": "display_data"
    },
    {
     "data": {
      "text/html": [
       "Syncing run <strong><a href='https://wandb.ai/kritika_23/adv_mla_at3/runs/om27id1y' target=\"_blank\">magic-eon-14</a></strong> to <a href='https://wandb.ai/kritika_23/adv_mla_at3' target=\"_blank\">Weights & Biases</a> (<a href='https://wandb.me/run' target=\"_blank\">docs</a>)<br/>"
      ],
      "text/plain": [
       "<IPython.core.display.HTML object>"
      ]
     },
     "metadata": {},
     "output_type": "display_data"
    },
    {
     "data": {
      "text/html": [
       " View project at <a href='https://wandb.ai/kritika_23/adv_mla_at3' target=\"_blank\">https://wandb.ai/kritika_23/adv_mla_at3</a>"
      ],
      "text/plain": [
       "<IPython.core.display.HTML object>"
      ]
     },
     "metadata": {},
     "output_type": "display_data"
    },
    {
     "data": {
      "text/html": [
       " View run at <a href='https://wandb.ai/kritika_23/adv_mla_at3/runs/om27id1y' target=\"_blank\">https://wandb.ai/kritika_23/adv_mla_at3/runs/om27id1y</a>"
      ],
      "text/plain": [
       "<IPython.core.display.HTML object>"
      ]
     },
     "metadata": {},
     "output_type": "display_data"
    },
    {
     "name": "stderr",
     "output_type": "stream",
     "text": [
      "WARNING:absl:At this time, the v2.11+ optimizer `tf.keras.optimizers.Adam` runs slowly on M1/M2 Macs, please use the legacy Keras optimizer instead, located at `tf.keras.optimizers.legacy.Adam`.\n"
     ]
    },
    {
     "name": "stdout",
     "output_type": "stream",
     "text": [
      "Epoch 1/100\n",
      "12164/12164 [==============================] - 8s 617us/step - loss: 0.6828 - mean_squared_error: 75166.7656 - mean_absolute_percentage_error: 47.3909 - val_loss: 0.2279 - val_mean_squared_error: 56841.2891 - val_mean_absolute_percentage_error: 43.2782 - lr: 0.0010\n",
      "Epoch 2/100\n",
      "  275/12164 [..............................] - ETA: 6s - loss: 0.2519 - mean_squared_error: 60116.8984 - mean_absolute_percentage_error: 44.8965"
     ]
    },
    {
     "name": "stderr",
     "output_type": "stream",
     "text": [
      "/Users/kritika/Library/Caches/pypoetry/virtualenvs/adv-mla-at3-NzhSlUn1-py3.9/lib/python3.9/site-packages/keras/src/engine/training.py:3079: UserWarning: You are saving your model as an HDF5 file via `model.save()`. This file format is considered legacy. We recommend using instead the native Keras format, e.g. `model.save('my_model.keras')`.\n",
      "  saving_api.save_model(\n"
     ]
    },
    {
     "name": "stdout",
     "output_type": "stream",
     "text": [
      "12164/12164 [==============================] - 7s 598us/step - loss: 0.2491 - mean_squared_error: 59358.5039 - mean_absolute_percentage_error: 44.5227 - val_loss: 0.2247 - val_mean_squared_error: 55263.4766 - val_mean_absolute_percentage_error: 42.2894 - lr: 0.0010\n",
      "Epoch 3/100\n",
      "12164/12164 [==============================] - 7s 602us/step - loss: 0.2448 - mean_squared_error: 57000.7266 - mean_absolute_percentage_error: 44.0759 - val_loss: 0.2206 - val_mean_squared_error: 51605.8320 - val_mean_absolute_percentage_error: 41.9433 - lr: 0.0010\n",
      "Epoch 4/100\n",
      "12164/12164 [==============================] - 7s 598us/step - loss: 0.2417 - mean_squared_error: 54233.4883 - mean_absolute_percentage_error: 43.8316 - val_loss: 0.2182 - val_mean_squared_error: 49327.3320 - val_mean_absolute_percentage_error: 41.7136 - lr: 0.0010\n",
      "Epoch 5/100\n",
      "12164/12164 [==============================] - 7s 598us/step - loss: 0.2401 - mean_squared_error: 53246.7734 - mean_absolute_percentage_error: 43.7044 - val_loss: 0.2181 - val_mean_squared_error: 48728.2891 - val_mean_absolute_percentage_error: 41.7949 - lr: 0.0010\n",
      "Epoch 6/100\n",
      "12164/12164 [==============================] - 7s 598us/step - loss: 0.2394 - mean_squared_error: 52827.6992 - mean_absolute_percentage_error: 43.6442 - val_loss: 0.2188 - val_mean_squared_error: 47752.0469 - val_mean_absolute_percentage_error: 42.7511 - lr: 0.0010\n",
      "Epoch 7/100\n",
      "12164/12164 [==============================] - 7s 601us/step - loss: 0.2386 - mean_squared_error: 52497.0508 - mean_absolute_percentage_error: 43.5595 - val_loss: 0.2185 - val_mean_squared_error: 48897.5195 - val_mean_absolute_percentage_error: 41.9120 - lr: 0.0010\n",
      "Epoch 8/100\n",
      "12164/12164 [==============================] - 7s 604us/step - loss: 0.2377 - mean_squared_error: 52584.0000 - mean_absolute_percentage_error: 43.4370 - val_loss: 0.2175 - val_mean_squared_error: 48087.1875 - val_mean_absolute_percentage_error: 41.9773 - lr: 2.0000e-04\n",
      "Epoch 9/100\n",
      "12164/12164 [==============================] - 7s 605us/step - loss: 0.2375 - mean_squared_error: 52149.3477 - mean_absolute_percentage_error: 43.4214 - val_loss: 0.2173 - val_mean_squared_error: 47921.9922 - val_mean_absolute_percentage_error: 41.8590 - lr: 2.0000e-04\n",
      "Epoch 10/100\n",
      "12164/12164 [==============================] - 7s 605us/step - loss: 0.2373 - mean_squared_error: 52223.4766 - mean_absolute_percentage_error: 43.4352 - val_loss: 0.2173 - val_mean_squared_error: 47598.9375 - val_mean_absolute_percentage_error: 42.1701 - lr: 2.0000e-04\n",
      "Epoch 11/100\n",
      "12164/12164 [==============================] - 7s 608us/step - loss: 0.2367 - mean_squared_error: 52013.2461 - mean_absolute_percentage_error: 43.3395 - val_loss: 0.2170 - val_mean_squared_error: 47373.9492 - val_mean_absolute_percentage_error: 42.1473 - lr: 2.0000e-04\n",
      "Epoch 12/100\n",
      "12164/12164 [==============================] - 7s 611us/step - loss: 0.2362 - mean_squared_error: 52060.5938 - mean_absolute_percentage_error: 43.2936 - val_loss: 0.2169 - val_mean_squared_error: 47702.7539 - val_mean_absolute_percentage_error: 41.9408 - lr: 2.0000e-04\n",
      "Epoch 13/100\n",
      "12164/12164 [==============================] - 8s 620us/step - loss: 0.2353 - mean_squared_error: 51772.6484 - mean_absolute_percentage_error: 43.2263 - val_loss: 0.2165 - val_mean_squared_error: 47489.9492 - val_mean_absolute_percentage_error: 41.7617 - lr: 2.0000e-04\n",
      "Epoch 14/100\n",
      "12164/12164 [==============================] - 8s 650us/step - loss: 0.2357 - mean_squared_error: 51623.9844 - mean_absolute_percentage_error: 43.2637 - val_loss: 0.2167 - val_mean_squared_error: 47339.7578 - val_mean_absolute_percentage_error: 42.0893 - lr: 2.0000e-04\n",
      "Epoch 15/100\n",
      "12164/12164 [==============================] - 7s 607us/step - loss: 0.2351 - mean_squared_error: 51565.4141 - mean_absolute_percentage_error: 43.1711 - val_loss: 0.2161 - val_mean_squared_error: 47177.3125 - val_mean_absolute_percentage_error: 41.9090 - lr: 2.0000e-04\n",
      "Epoch 16/100\n",
      "12164/12164 [==============================] - 7s 616us/step - loss: 0.2349 - mean_squared_error: 51551.2188 - mean_absolute_percentage_error: 43.1842 - val_loss: 0.2166 - val_mean_squared_error: 47574.1680 - val_mean_absolute_percentage_error: 41.8180 - lr: 2.0000e-04\n",
      "Epoch 17/100\n",
      "12164/12164 [==============================] - 8s 627us/step - loss: 0.2342 - mean_squared_error: 51256.3359 - mean_absolute_percentage_error: 43.0859 - val_loss: 0.2161 - val_mean_squared_error: 47311.6914 - val_mean_absolute_percentage_error: 41.6452 - lr: 2.0000e-04\n",
      "Epoch 18/100\n",
      "12164/12164 [==============================] - 8s 620us/step - loss: 0.2348 - mean_squared_error: 51377.3086 - mean_absolute_percentage_error: 43.1492 - val_loss: 0.2163 - val_mean_squared_error: 47102.5898 - val_mean_absolute_percentage_error: 42.0796 - lr: 2.0000e-04\n",
      "Epoch 19/100\n",
      "12164/12164 [==============================] - 7s 610us/step - loss: 0.2340 - mean_squared_error: 51335.0938 - mean_absolute_percentage_error: 43.0818 - val_loss: 0.2157 - val_mean_squared_error: 47079.8945 - val_mean_absolute_percentage_error: 41.7992 - lr: 1.0000e-04\n",
      "Epoch 20/100\n",
      "12164/12164 [==============================] - 7s 607us/step - loss: 0.2340 - mean_squared_error: 51118.1562 - mean_absolute_percentage_error: 43.0506 - val_loss: 0.2158 - val_mean_squared_error: 47059.8047 - val_mean_absolute_percentage_error: 41.7706 - lr: 1.0000e-04\n",
      "Epoch 21/100\n",
      "12164/12164 [==============================] - 7s 607us/step - loss: 0.2339 - mean_squared_error: 51370.3672 - mean_absolute_percentage_error: 43.0671 - val_loss: 0.2158 - val_mean_squared_error: 47181.2969 - val_mean_absolute_percentage_error: 41.7606 - lr: 1.0000e-04\n",
      "Epoch 22/100\n",
      "12164/12164 [==============================] - 7s 614us/step - loss: 0.2337 - mean_squared_error: 51238.1680 - mean_absolute_percentage_error: 43.0349 - val_loss: 0.2157 - val_mean_squared_error: 47267.8906 - val_mean_absolute_percentage_error: 41.6068 - lr: 1.0000e-04\n",
      "Epoch 23/100\n",
      "12164/12164 [==============================] - 7s 610us/step - loss: 0.2336 - mean_squared_error: 51048.2461 - mean_absolute_percentage_error: 43.0104 - val_loss: 0.2157 - val_mean_squared_error: 47180.0664 - val_mean_absolute_percentage_error: 41.6583 - lr: 1.0000e-04\n",
      "Epoch 24/100\n",
      "12164/12164 [==============================] - 7s 610us/step - loss: 0.2334 - mean_squared_error: 51074.8828 - mean_absolute_percentage_error: 42.9983 - val_loss: 0.2156 - val_mean_squared_error: 47187.3477 - val_mean_absolute_percentage_error: 41.6148 - lr: 1.0000e-04\n",
      "Epoch 25/100\n",
      "12164/12164 [==============================] - 7s 612us/step - loss: 0.2335 - mean_squared_error: 51298.0156 - mean_absolute_percentage_error: 43.0130 - val_loss: 0.2158 - val_mean_squared_error: 47083.5742 - val_mean_absolute_percentage_error: 41.9043 - lr: 1.0000e-04\n",
      "Epoch 26/100\n",
      "12164/12164 [==============================] - 7s 611us/step - loss: 0.2330 - mean_squared_error: 51069.0938 - mean_absolute_percentage_error: 42.9868 - val_loss: 0.2156 - val_mean_squared_error: 47369.2383 - val_mean_absolute_percentage_error: 41.4980 - lr: 1.0000e-04\n",
      "Epoch 27/100\n",
      "12164/12164 [==============================] - 7s 610us/step - loss: 0.2334 - mean_squared_error: 51054.7461 - mean_absolute_percentage_error: 43.0308 - val_loss: 0.2154 - val_mean_squared_error: 47178.4453 - val_mean_absolute_percentage_error: 41.5236 - lr: 1.0000e-04\n",
      "Epoch 28/100\n",
      "12164/12164 [==============================] - 7s 609us/step - loss: 0.2334 - mean_squared_error: 51193.7266 - mean_absolute_percentage_error: 42.9892 - val_loss: 0.2155 - val_mean_squared_error: 46830.9805 - val_mean_absolute_percentage_error: 41.7971 - lr: 1.0000e-04\n",
      "Epoch 29/100\n",
      "12164/12164 [==============================] - 7s 612us/step - loss: 0.2331 - mean_squared_error: 50982.2891 - mean_absolute_percentage_error: 42.9933 - val_loss: 0.2154 - val_mean_squared_error: 47046.9883 - val_mean_absolute_percentage_error: 41.5940 - lr: 1.0000e-04\n",
      "Epoch 30/100\n",
      "12164/12164 [==============================] - 7s 609us/step - loss: 0.2324 - mean_squared_error: 50831.1797 - mean_absolute_percentage_error: 42.9154 - val_loss: 0.2156 - val_mean_squared_error: 46882.4531 - val_mean_absolute_percentage_error: 41.8365 - lr: 1.0000e-04\n",
      "Epoch 31/100\n"
     ]
    },
    {
     "name": "stdout",
     "output_type": "stream",
     "text": [
      "12164/12164 [==============================] - 7s 594us/step - loss: 0.2325 - mean_squared_error: 50970.1836 - mean_absolute_percentage_error: 42.9412 - val_loss: 0.2155 - val_mean_squared_error: 46597.5664 - val_mean_absolute_percentage_error: 42.0112 - lr: 1.0000e-04\n",
      "Epoch 32/100\n",
      "12164/12164 [==============================] - 7s 593us/step - loss: 0.2325 - mean_squared_error: 50812.8398 - mean_absolute_percentage_error: 42.9379 - val_loss: 0.2155 - val_mean_squared_error: 47016.1523 - val_mean_absolute_percentage_error: 41.6959 - lr: 1.0000e-04\n",
      "Epoch 33/100\n",
      "12164/12164 [==============================] - 7s 598us/step - loss: 0.2323 - mean_squared_error: 50901.6094 - mean_absolute_percentage_error: 42.8887 - val_loss: 0.2154 - val_mean_squared_error: 46810.3398 - val_mean_absolute_percentage_error: 41.8476 - lr: 1.0000e-04\n",
      "Epoch 34/100\n",
      "12164/12164 [==============================] - 7s 600us/step - loss: 0.2319 - mean_squared_error: 50686.4961 - mean_absolute_percentage_error: 42.8921 - val_loss: 0.2154 - val_mean_squared_error: 47255.8398 - val_mean_absolute_percentage_error: 41.4537 - lr: 1.0000e-04\n",
      "Epoch 35/100\n",
      "12164/12164 [==============================] - 7s 596us/step - loss: 0.2318 - mean_squared_error: 50686.9922 - mean_absolute_percentage_error: 42.8502 - val_loss: 0.2152 - val_mean_squared_error: 46966.3125 - val_mean_absolute_percentage_error: 41.6199 - lr: 1.0000e-04\n",
      "Epoch 36/100\n",
      "12164/12164 [==============================] - 7s 597us/step - loss: 0.2318 - mean_squared_error: 50821.4609 - mean_absolute_percentage_error: 42.8637 - val_loss: 0.2156 - val_mean_squared_error: 46896.7070 - val_mean_absolute_percentage_error: 41.8596 - lr: 1.0000e-04\n",
      "Epoch 37/100\n",
      "12164/12164 [==============================] - 7s 597us/step - loss: 0.2314 - mean_squared_error: 50746.1367 - mean_absolute_percentage_error: 42.8330 - val_loss: 0.2151 - val_mean_squared_error: 46920.8398 - val_mean_absolute_percentage_error: 41.6881 - lr: 1.0000e-04\n",
      "Epoch 38/100\n",
      "12164/12164 [==============================] - 7s 594us/step - loss: 0.2318 - mean_squared_error: 50760.9844 - mean_absolute_percentage_error: 42.8604 - val_loss: 0.2154 - val_mean_squared_error: 46931.2422 - val_mean_absolute_percentage_error: 41.7438 - lr: 1.0000e-04\n",
      "Epoch 39/100\n",
      "12164/12164 [==============================] - 7s 598us/step - loss: 0.2319 - mean_squared_error: 50837.8984 - mean_absolute_percentage_error: 42.8633 - val_loss: 0.2155 - val_mean_squared_error: 47195.3906 - val_mean_absolute_percentage_error: 41.6501 - lr: 1.0000e-04\n",
      "Epoch 40/100\n",
      "12164/12164 [==============================] - 7s 599us/step - loss: 0.2315 - mean_squared_error: 50777.3242 - mean_absolute_percentage_error: 42.8229 - val_loss: 0.2151 - val_mean_squared_error: 46805.9570 - val_mean_absolute_percentage_error: 41.6976 - lr: 1.0000e-04\n",
      "Epoch 41/100\n",
      "12164/12164 [==============================] - 7s 598us/step - loss: 0.2312 - mean_squared_error: 50849.5781 - mean_absolute_percentage_error: 42.8209 - val_loss: 0.2151 - val_mean_squared_error: 47113.1250 - val_mean_absolute_percentage_error: 41.4790 - lr: 1.0000e-04\n",
      "Epoch 42/100\n",
      "12164/12164 [==============================] - 7s 594us/step - loss: 0.2312 - mean_squared_error: 50652.7539 - mean_absolute_percentage_error: 42.7811 - val_loss: 0.2153 - val_mean_squared_error: 46741.1484 - val_mean_absolute_percentage_error: 41.9084 - lr: 1.0000e-04\n",
      "Epoch 43/100\n",
      "12164/12164 [==============================] - 7s 600us/step - loss: 0.2313 - mean_squared_error: 50772.7344 - mean_absolute_percentage_error: 42.7896 - val_loss: 0.2153 - val_mean_squared_error: 47081.0234 - val_mean_absolute_percentage_error: 41.6185 - lr: 1.0000e-04\n",
      "Epoch 44/100\n",
      "12164/12164 [==============================] - 7s 601us/step - loss: 0.2312 - mean_squared_error: 50767.1758 - mean_absolute_percentage_error: 42.7653 - val_loss: 0.2154 - val_mean_squared_error: 46768.5820 - val_mean_absolute_percentage_error: 41.9066 - lr: 1.0000e-04\n",
      "Epoch 45/100\n",
      "12164/12164 [==============================] - 7s 602us/step - loss: 0.2311 - mean_squared_error: 50749.6719 - mean_absolute_percentage_error: 42.7702 - val_loss: 0.2152 - val_mean_squared_error: 46815.2500 - val_mean_absolute_percentage_error: 41.7330 - lr: 1.0000e-04\n"
     ]
    },
    {
     "name": "stderr",
     "output_type": "stream",
     "text": [
      "WARNING:absl:At this time, the v2.11+ optimizer `tf.keras.optimizers.Adam` runs slowly on M1/M2 Macs, please use the legacy Keras optimizer instead, located at `tf.keras.optimizers.legacy.Adam`.\n"
     ]
    },
    {
     "name": "stdout",
     "output_type": "stream",
     "text": [
      "12164/12164 [==============================] - 4s 294us/step\n",
      "4055/4055 [==============================] - 1s 292us/step\n"
     ]
    },
    {
     "name": "stderr",
     "output_type": "stream",
     "text": [
      "wandb: WARNING Source type is set to 'repo' but some required information is missing from the environment. A job will not be created from this run. See https://docs.wandb.ai/guides/launch/create-job\n"
     ]
    },
    {
     "data": {
      "text/html": [
       "<style>\n",
       "    table.wandb td:nth-child(1) { padding: 0 10px; text-align: left ; width: auto;} td:nth-child(2) {text-align: left ; width: 100%}\n",
       "    .wandb-row { display: flex; flex-direction: row; flex-wrap: wrap; justify-content: flex-start; width: 100% }\n",
       "    .wandb-col { display: flex; flex-direction: column; flex-basis: 100%; flex: 1; padding: 10px; }\n",
       "    </style>\n",
       "<div class=\"wandb-row\"><div class=\"wandb-col\"><h3>Run history:</h3><br/><table class=\"wandb\"><tr><td>test_rmse</td><td>▁</td></tr><tr><td>train_rmse</td><td>▁</td></tr><tr><td>val_mse</td><td>█▇▄▃▂▂▃▂▂▂▂▂▂▁▂▁▁▁▁▁▁▁▁▂▁▁▁▁▁▁▁▁▁▁▁▁▁▁▁▁</td></tr></table><br/></div><div class=\"wandb-col\"><h3>Run summary:</h3><br/><table class=\"wandb\"><tr><td>test_rmse</td><td>216.34686</td></tr><tr><td>train_rmse</td><td>216.26765</td></tr><tr><td>val_mse</td><td>46815.25</td></tr></table><br/></div></div>"
      ],
      "text/plain": [
       "<IPython.core.display.HTML object>"
      ]
     },
     "metadata": {},
     "output_type": "display_data"
    },
    {
     "data": {
      "text/html": [
       " View run <strong style=\"color:#cdcd00\">magic-eon-14</strong> at: <a href='https://wandb.ai/kritika_23/adv_mla_at3/runs/om27id1y' target=\"_blank\">https://wandb.ai/kritika_23/adv_mla_at3/runs/om27id1y</a><br/>Synced 5 W&B file(s), 0 media file(s), 1 artifact file(s) and 0 other file(s)"
      ],
      "text/plain": [
       "<IPython.core.display.HTML object>"
      ]
     },
     "metadata": {},
     "output_type": "display_data"
    },
    {
     "data": {
      "text/html": [
       "Find logs at: <code>./wandb/run-20231108_153018-om27id1y/logs</code>"
      ],
      "text/plain": [
       "<IPython.core.display.HTML object>"
      ]
     },
     "metadata": {},
     "output_type": "display_data"
    }
   ],
   "source": [
    "from train_model import train_and_evaluate_model\n",
    "train_and_evaluate_model(X_train_scaled, y_train, X_test_scaled, y_test, \"exp4_best_model.h5\")"
   ]
  },
  {
   "cell_type": "markdown",
   "id": "cc29b1c8",
   "metadata": {},
   "source": [
    "**Note: Amongst the 4 experiments performed, experiment 2 has the best train and test results. The best model has been saved as `exp2_best_model.h5` in the /models folder**"
   ]
  },
  {
   "cell_type": "markdown",
   "id": "27f17ba0",
   "metadata": {},
   "source": [
    "### Appendix - Experiment 1 "
   ]
  },
  {
   "cell_type": "code",
   "execution_count": 9,
   "id": "eaeffb3f",
   "metadata": {},
   "outputs": [
    {
     "name": "stderr",
     "output_type": "stream",
     "text": [
      "Failed to detect the name of this notebook, you can set it manually with the WANDB_NOTEBOOK_NAME environment variable to enable code saving.\n",
      "\u001b[34m\u001b[1mwandb\u001b[0m: Currently logged in as: \u001b[33mkritz2399\u001b[0m (\u001b[33mkritika_23\u001b[0m). Use \u001b[1m`wandb login --relogin`\u001b[0m to force relogin\n"
     ]
    },
    {
     "data": {
      "text/html": [
       "Tracking run with wandb version 0.16.0"
      ],
      "text/plain": [
       "<IPython.core.display.HTML object>"
      ]
     },
     "metadata": {},
     "output_type": "display_data"
    },
    {
     "data": {
      "text/html": [
       "Run data is saved locally in <code>/Users/kritika/Desktop/MDSI/AMLA/adv_mla_at3/notebooks/Kritika/wandb/run-20231108_123119-o6r8jzhl</code>"
      ],
      "text/plain": [
       "<IPython.core.display.HTML object>"
      ]
     },
     "metadata": {},
     "output_type": "display_data"
    },
    {
     "data": {
      "text/html": [
       "Syncing run <strong><a href='https://wandb.ai/kritika_23/adv_mla_at3/runs/o6r8jzhl' target=\"_blank\">hardy-universe-3</a></strong> to <a href='https://wandb.ai/kritika_23/adv_mla_at3' target=\"_blank\">Weights & Biases</a> (<a href='https://wandb.me/run' target=\"_blank\">docs</a>)<br/>"
      ],
      "text/plain": [
       "<IPython.core.display.HTML object>"
      ]
     },
     "metadata": {},
     "output_type": "display_data"
    },
    {
     "data": {
      "text/html": [
       " View project at <a href='https://wandb.ai/kritika_23/adv_mla_at3' target=\"_blank\">https://wandb.ai/kritika_23/adv_mla_at3</a>"
      ],
      "text/plain": [
       "<IPython.core.display.HTML object>"
      ]
     },
     "metadata": {},
     "output_type": "display_data"
    },
    {
     "data": {
      "text/html": [
       " View run at <a href='https://wandb.ai/kritika_23/adv_mla_at3/runs/o6r8jzhl' target=\"_blank\">https://wandb.ai/kritika_23/adv_mla_at3/runs/o6r8jzhl</a>"
      ],
      "text/plain": [
       "<IPython.core.display.HTML object>"
      ]
     },
     "metadata": {},
     "output_type": "display_data"
    }
   ],
   "source": [
    "import wandb\n",
    "from tensorflow import keras\n",
    "from tensorflow.keras import layers\n",
    "from tensorflow.keras import regularizers\n",
    "from tensorflow.keras.callbacks import EarlyStopping, ReduceLROnPlateau\n",
    "\n",
    "# Initialize wandb\n",
    "wandb.init(project=\"adv_mla_at3\")\n",
    "\n",
    "# Log hyperparameters\n",
    "config = wandb.config\n",
    "config.epochs = 50\n",
    "config.batch_size = 32\n",
    "config.optimizer = 'adam'\n",
    "config.loss = 'mean_squared_error'\n",
    "config.metrics = ['root_mean_squared_error']"
   ]
  },
  {
   "cell_type": "code",
   "execution_count": 11,
   "id": "5db3f2aa",
   "metadata": {},
   "outputs": [
    {
     "name": "stdout",
     "output_type": "stream",
     "text": [
      "Epoch 1/50\n",
      "12164/12164 [==============================] - 8s 602us/step - loss: 0.6129 - mean_squared_error: 71112.0938 - mean_absolute_percentage_error: 44.9520 - val_loss: 0.2273 - val_mean_squared_error: 57234.6875 - val_mean_absolute_percentage_error: 42.4495 - lr: 0.0010\n",
      "Epoch 2/50\n",
      "12164/12164 [==============================] - 7s 589us/step - loss: 0.2247 - mean_squared_error: 55934.9844 - mean_absolute_percentage_error: 42.1586 - val_loss: 0.2237 - val_mean_squared_error: 55383.9570 - val_mean_absolute_percentage_error: 41.9155 - lr: 0.0010\n",
      "Epoch 3/50\n",
      "12164/12164 [==============================] - 7s 588us/step - loss: 0.2213 - mean_squared_error: 54261.8945 - mean_absolute_percentage_error: 41.7429 - val_loss: 0.2205 - val_mean_squared_error: 53080.2422 - val_mean_absolute_percentage_error: 41.9519 - lr: 0.0010\n",
      "Epoch 4/50\n",
      "12164/12164 [==============================] - 7s 604us/step - loss: 0.2180 - mean_squared_error: 52084.3555 - mean_absolute_percentage_error: 41.3575 - val_loss: 0.2170 - val_mean_squared_error: 51267.3594 - val_mean_absolute_percentage_error: 40.9237 - lr: 0.0010\n",
      "Epoch 5/50\n",
      "12164/12164 [==============================] - 7s 590us/step - loss: 0.2143 - mean_squared_error: 49364.8242 - mean_absolute_percentage_error: 40.9464 - val_loss: 0.2131 - val_mean_squared_error: 48253.4492 - val_mean_absolute_percentage_error: 40.8763 - lr: 0.0010\n",
      "Epoch 6/50\n",
      "12164/12164 [==============================] - 7s 585us/step - loss: 0.2103 - mean_squared_error: 46786.0000 - mean_absolute_percentage_error: 40.4775 - val_loss: 0.2093 - val_mean_squared_error: 45619.3516 - val_mean_absolute_percentage_error: 40.5516 - lr: 0.0010\n",
      "Epoch 7/50\n",
      "12164/12164 [==============================] - 7s 583us/step - loss: 0.2070 - mean_squared_error: 44878.5859 - mean_absolute_percentage_error: 40.0244 - val_loss: 0.2067 - val_mean_squared_error: 43875.7734 - val_mean_absolute_percentage_error: 40.8083 - lr: 0.0010\n",
      "Epoch 8/50\n",
      "12164/12164 [==============================] - 7s 580us/step - loss: 0.2045 - mean_squared_error: 43607.3164 - mean_absolute_percentage_error: 39.6728 - val_loss: 0.2064 - val_mean_squared_error: 45424.1133 - val_mean_absolute_percentage_error: 38.2177 - lr: 0.0010\n",
      "Epoch 9/50\n",
      "12164/12164 [==============================] - 7s 576us/step - loss: 0.2023 - mean_squared_error: 42780.1719 - mean_absolute_percentage_error: 39.3205 - val_loss: 0.2019 - val_mean_squared_error: 42266.2578 - val_mean_absolute_percentage_error: 39.7940 - lr: 0.0010\n",
      "Epoch 10/50\n",
      "12164/12164 [==============================] - 7s 583us/step - loss: 0.2001 - mean_squared_error: 42081.5469 - mean_absolute_percentage_error: 38.9725 - val_loss: 0.2001 - val_mean_squared_error: 41632.7539 - val_mean_absolute_percentage_error: 39.3536 - lr: 0.0010\n",
      "Epoch 11/50\n",
      "12164/12164 [==============================] - 7s 593us/step - loss: 0.1984 - mean_squared_error: 41670.8594 - mean_absolute_percentage_error: 38.6886 - val_loss: 0.1985 - val_mean_squared_error: 41252.9961 - val_mean_absolute_percentage_error: 38.9855 - lr: 0.0010\n",
      "Epoch 12/50\n",
      "12164/12164 [==============================] - 7s 592us/step - loss: 0.1969 - mean_squared_error: 41306.5781 - mean_absolute_percentage_error: 38.4467 - val_loss: 0.1970 - val_mean_squared_error: 41499.8047 - val_mean_absolute_percentage_error: 38.2717 - lr: 0.0010\n",
      "Epoch 13/50\n",
      "12164/12164 [==============================] - 7s 594us/step - loss: 0.1959 - mean_squared_error: 41043.6914 - mean_absolute_percentage_error: 38.2818 - val_loss: 0.1962 - val_mean_squared_error: 41504.6484 - val_mean_absolute_percentage_error: 37.9141 - lr: 0.0010\n",
      "Epoch 14/50\n",
      "12164/12164 [==============================] - 7s 599us/step - loss: 0.1952 - mean_squared_error: 40910.4648 - mean_absolute_percentage_error: 38.1480 - val_loss: 0.1955 - val_mean_squared_error: 40939.6445 - val_mean_absolute_percentage_error: 38.2577 - lr: 0.0010\n",
      "Epoch 15/50\n",
      "12164/12164 [==============================] - 7s 596us/step - loss: 0.1945 - mean_squared_error: 40731.8359 - mean_absolute_percentage_error: 38.0457 - val_loss: 0.1947 - val_mean_squared_error: 40759.6289 - val_mean_absolute_percentage_error: 37.9611 - lr: 0.0010\n",
      "Epoch 16/50\n",
      "12164/12164 [==============================] - 7s 597us/step - loss: 0.1940 - mean_squared_error: 40626.9922 - mean_absolute_percentage_error: 37.9492 - val_loss: 0.1941 - val_mean_squared_error: 40889.1328 - val_mean_absolute_percentage_error: 37.9651 - lr: 0.0010\n",
      "Epoch 17/50\n",
      "12164/12164 [==============================] - 7s 600us/step - loss: 0.1935 - mean_squared_error: 40545.3828 - mean_absolute_percentage_error: 37.8721 - val_loss: 0.1943 - val_mean_squared_error: 40327.8008 - val_mean_absolute_percentage_error: 38.5698 - lr: 0.0010\n",
      "Epoch 18/50\n",
      "12164/12164 [==============================] - 7s 597us/step - loss: 0.1928 - mean_squared_error: 40391.1367 - mean_absolute_percentage_error: 37.7770 - val_loss: 0.1934 - val_mean_squared_error: 40696.3047 - val_mean_absolute_percentage_error: 37.4558 - lr: 0.0010\n",
      "Epoch 19/50\n",
      "12164/12164 [==============================] - 7s 603us/step - loss: 0.1923 - mean_squared_error: 40284.8320 - mean_absolute_percentage_error: 37.7046 - val_loss: 0.1925 - val_mean_squared_error: 40362.0312 - val_mean_absolute_percentage_error: 37.9068 - lr: 0.0010\n",
      "Epoch 20/50\n",
      "12164/12164 [==============================] - 7s 612us/step - loss: 0.1919 - mean_squared_error: 40242.1953 - mean_absolute_percentage_error: 37.6435 - val_loss: 0.1930 - val_mean_squared_error: 40353.5273 - val_mean_absolute_percentage_error: 38.1316 - lr: 0.0010\n",
      "Epoch 21/50\n",
      "12164/12164 [==============================] - 7s 604us/step - loss: 0.1915 - mean_squared_error: 40196.7891 - mean_absolute_percentage_error: 37.5790 - val_loss: 0.1922 - val_mean_squared_error: 39763.8906 - val_mean_absolute_percentage_error: 38.1417 - lr: 0.0010\n",
      "Epoch 22/50\n",
      "12164/12164 [==============================] - 7s 600us/step - loss: 0.1913 - mean_squared_error: 40134.0430 - mean_absolute_percentage_error: 37.5268 - val_loss: 0.1926 - val_mean_squared_error: 39955.1875 - val_mean_absolute_percentage_error: 38.6857 - lr: 0.0010\n",
      "Epoch 23/50\n",
      "12164/12164 [==============================] - 8s 660us/step - loss: 0.1907 - mean_squared_error: 40064.5781 - mean_absolute_percentage_error: 37.4540 - val_loss: 0.1923 - val_mean_squared_error: 40540.6953 - val_mean_absolute_percentage_error: 37.3456 - lr: 0.0010\n",
      "Epoch 24/50\n",
      "12164/12164 [==============================] - 7s 596us/step - loss: 0.1901 - mean_squared_error: 39985.8242 - mean_absolute_percentage_error: 37.3871 - val_loss: 0.1922 - val_mean_squared_error: 41539.5664 - val_mean_absolute_percentage_error: 37.6481 - lr: 0.0010\n",
      "Epoch 25/50\n",
      "12164/12164 [==============================] - 7s 615us/step - loss: 0.1885 - mean_squared_error: 39810.6367 - mean_absolute_percentage_error: 37.1561 - val_loss: 0.1896 - val_mean_squared_error: 39967.1484 - val_mean_absolute_percentage_error: 37.5365 - lr: 2.0000e-04\n",
      "Epoch 26/50\n",
      "12164/12164 [==============================] - 8s 641us/step - loss: 0.1884 - mean_squared_error: 39761.6289 - mean_absolute_percentage_error: 37.1353 - val_loss: 0.1895 - val_mean_squared_error: 40190.4766 - val_mean_absolute_percentage_error: 37.0520 - lr: 2.0000e-04\n",
      "Epoch 27/50\n",
      "12164/12164 [==============================] - 7s 606us/step - loss: 0.1883 - mean_squared_error: 39736.5938 - mean_absolute_percentage_error: 37.1182 - val_loss: 0.1894 - val_mean_squared_error: 39739.3398 - val_mean_absolute_percentage_error: 37.4897 - lr: 2.0000e-04\n",
      "Epoch 28/50\n",
      "12164/12164 [==============================] - 8s 629us/step - loss: 0.1882 - mean_squared_error: 39710.7891 - mean_absolute_percentage_error: 37.1063 - val_loss: 0.1893 - val_mean_squared_error: 40055.9961 - val_mean_absolute_percentage_error: 37.2141 - lr: 2.0000e-04\n",
      "Epoch 29/50\n",
      "12164/12164 [==============================] - 7s 607us/step - loss: 0.1881 - mean_squared_error: 39685.4766 - mean_absolute_percentage_error: 37.0957 - val_loss: 0.1892 - val_mean_squared_error: 40011.6953 - val_mean_absolute_percentage_error: 37.1928 - lr: 2.0000e-04\n",
      "Epoch 30/50\n"
     ]
    },
    {
     "name": "stdout",
     "output_type": "stream",
     "text": [
      "12164/12164 [==============================] - 7s 609us/step - loss: 0.1880 - mean_squared_error: 39660.1133 - mean_absolute_percentage_error: 37.0817 - val_loss: 0.1892 - val_mean_squared_error: 39634.1562 - val_mean_absolute_percentage_error: 37.5732 - lr: 2.0000e-04\n",
      "Epoch 31/50\n",
      "12164/12164 [==============================] - 7s 599us/step - loss: 0.1879 - mean_squared_error: 39659.2617 - mean_absolute_percentage_error: 37.0621 - val_loss: 0.1890 - val_mean_squared_error: 39733.3750 - val_mean_absolute_percentage_error: 37.5556 - lr: 2.0000e-04\n",
      "Epoch 32/50\n",
      "12164/12164 [==============================] - 7s 587us/step - loss: 0.1878 - mean_squared_error: 39650.7695 - mean_absolute_percentage_error: 37.0587 - val_loss: 0.1891 - val_mean_squared_error: 39916.4883 - val_mean_absolute_percentage_error: 37.1469 - lr: 2.0000e-04\n",
      "Epoch 33/50\n",
      "12164/12164 [==============================] - 7s 610us/step - loss: 0.1878 - mean_squared_error: 39646.7461 - mean_absolute_percentage_error: 37.0491 - val_loss: 0.1888 - val_mean_squared_error: 40021.2539 - val_mean_absolute_percentage_error: 37.0233 - lr: 2.0000e-04\n",
      "Epoch 34/50\n",
      "12164/12164 [==============================] - 8s 623us/step - loss: 0.1877 - mean_squared_error: 39632.6875 - mean_absolute_percentage_error: 37.0455 - val_loss: 0.1887 - val_mean_squared_error: 39803.2070 - val_mean_absolute_percentage_error: 37.2905 - lr: 2.0000e-04\n",
      "Epoch 35/50\n",
      "12164/12164 [==============================] - 7s 608us/step - loss: 0.1877 - mean_squared_error: 39622.3125 - mean_absolute_percentage_error: 37.0288 - val_loss: 0.1890 - val_mean_squared_error: 39462.7422 - val_mean_absolute_percentage_error: 37.6727 - lr: 2.0000e-04\n",
      "Epoch 36/50\n",
      "12164/12164 [==============================] - 8s 635us/step - loss: 0.1876 - mean_squared_error: 39583.6016 - mean_absolute_percentage_error: 37.0236 - val_loss: 0.1886 - val_mean_squared_error: 39544.2188 - val_mean_absolute_percentage_error: 37.4101 - lr: 2.0000e-04\n",
      "Epoch 37/50\n",
      "12164/12164 [==============================] - 7s 598us/step - loss: 0.1875 - mean_squared_error: 39579.9141 - mean_absolute_percentage_error: 37.0109 - val_loss: 0.1886 - val_mean_squared_error: 39693.4102 - val_mean_absolute_percentage_error: 37.2447 - lr: 2.0000e-04\n",
      "Epoch 38/50\n",
      "12164/12164 [==============================] - 7s 598us/step - loss: 0.1874 - mean_squared_error: 39569.0156 - mean_absolute_percentage_error: 36.9989 - val_loss: 0.1886 - val_mean_squared_error: 39889.2656 - val_mean_absolute_percentage_error: 36.9944 - lr: 2.0000e-04\n",
      "Epoch 39/50\n",
      "12164/12164 [==============================] - 7s 616us/step - loss: 0.1874 - mean_squared_error: 39557.0352 - mean_absolute_percentage_error: 36.9945 - val_loss: 0.1884 - val_mean_squared_error: 39560.3945 - val_mean_absolute_percentage_error: 37.4642 - lr: 2.0000e-04\n",
      "Epoch 40/50\n",
      "12164/12164 [==============================] - 7s 614us/step - loss: 0.1873 - mean_squared_error: 39551.4336 - mean_absolute_percentage_error: 36.9866 - val_loss: 0.1883 - val_mean_squared_error: 39779.4258 - val_mean_absolute_percentage_error: 37.1157 - lr: 2.0000e-04\n",
      "Epoch 41/50\n",
      "12164/12164 [==============================] - 7s 606us/step - loss: 0.1873 - mean_squared_error: 39532.2734 - mean_absolute_percentage_error: 36.9764 - val_loss: 0.1882 - val_mean_squared_error: 39750.0625 - val_mean_absolute_percentage_error: 37.1401 - lr: 2.0000e-04\n",
      "Epoch 42/50\n",
      "12164/12164 [==============================] - 8s 628us/step - loss: 0.1872 - mean_squared_error: 39520.3750 - mean_absolute_percentage_error: 36.9723 - val_loss: 0.1881 - val_mean_squared_error: 39768.2930 - val_mean_absolute_percentage_error: 37.0465 - lr: 2.0000e-04\n",
      "Epoch 43/50\n",
      "12164/12164 [==============================] - 8s 617us/step - loss: 0.1872 - mean_squared_error: 39521.1992 - mean_absolute_percentage_error: 36.9642 - val_loss: 0.1883 - val_mean_squared_error: 39688.2227 - val_mean_absolute_percentage_error: 37.2243 - lr: 2.0000e-04\n",
      "Epoch 44/50\n",
      "12164/12164 [==============================] - 8s 630us/step - loss: 0.1871 - mean_squared_error: 39499.8398 - mean_absolute_percentage_error: 36.9577 - val_loss: 0.1881 - val_mean_squared_error: 39731.3477 - val_mean_absolute_percentage_error: 37.1257 - lr: 2.0000e-04\n",
      "Epoch 45/50\n",
      "12164/12164 [==============================] - 8s 619us/step - loss: 0.1871 - mean_squared_error: 39483.8516 - mean_absolute_percentage_error: 36.9501 - val_loss: 0.1880 - val_mean_squared_error: 39557.9180 - val_mean_absolute_percentage_error: 37.2796 - lr: 2.0000e-04\n",
      "Epoch 46/50\n",
      "12164/12164 [==============================] - 8s 619us/step - loss: 0.1870 - mean_squared_error: 39488.9805 - mean_absolute_percentage_error: 36.9421 - val_loss: 0.1883 - val_mean_squared_error: 39267.8789 - val_mean_absolute_percentage_error: 37.6544 - lr: 2.0000e-04\n",
      "Epoch 47/50\n",
      "12164/12164 [==============================] - 7s 616us/step - loss: 0.1869 - mean_squared_error: 39473.1875 - mean_absolute_percentage_error: 36.9363 - val_loss: 0.1884 - val_mean_squared_error: 39508.7227 - val_mean_absolute_percentage_error: 37.5011 - lr: 2.0000e-04\n",
      "Epoch 48/50\n",
      "12164/12164 [==============================] - 7s 610us/step - loss: 0.1869 - mean_squared_error: 39462.2344 - mean_absolute_percentage_error: 36.9319 - val_loss: 0.1880 - val_mean_squared_error: 39401.7422 - val_mean_absolute_percentage_error: 37.3695 - lr: 2.0000e-04\n",
      "Epoch 49/50\n",
      "12164/12164 [==============================] - 7s 605us/step - loss: 0.1867 - mean_squared_error: 39415.5547 - mean_absolute_percentage_error: 36.8977 - val_loss: 0.1877 - val_mean_squared_error: 39811.2812 - val_mean_absolute_percentage_error: 36.9364 - lr: 1.0000e-04\n",
      "Epoch 50/50\n",
      "12164/12164 [==============================] - 7s 606us/step - loss: 0.1866 - mean_squared_error: 39422.5586 - mean_absolute_percentage_error: 36.8916 - val_loss: 0.1880 - val_mean_squared_error: 40148.5898 - val_mean_absolute_percentage_error: 36.5878 - lr: 1.0000e-04\n",
      "12164/12164 [==============================] - 4s 310us/step\n",
      "4055/4055 [==============================] - 1s 306us/step\n"
     ]
    },
    {
     "name": "stderr",
     "output_type": "stream",
     "text": [
      "wandb: WARNING Source type is set to 'repo' but some required information is missing from the environment. A job will not be created from this run. See https://docs.wandb.ai/guides/launch/create-job\n"
     ]
    },
    {
     "data": {
      "text/html": [
       "<style>\n",
       "    table.wandb td:nth-child(1) { padding: 0 10px; text-align: left ; width: auto;} td:nth-child(2) {text-align: left ; width: 100%}\n",
       "    .wandb-row { display: flex; flex-direction: row; flex-wrap: wrap; justify-content: flex-start; width: 100% }\n",
       "    .wandb-col { display: flex; flex-direction: column; flex-basis: 100%; flex: 1; padding: 10px; }\n",
       "    </style>\n",
       "<div class=\"wandb-row\"><div class=\"wandb-col\"><h3>Run history:</h3><br/><table class=\"wandb\"><tr><td>test_rmse</td><td>▁</td></tr><tr><td>train_rmse</td><td>▁</td></tr></table><br/></div><div class=\"wandb-col\"><h3>Run summary:</h3><br/><table class=\"wandb\"><tr><td>test_rmse</td><td>200.37106</td></tr><tr><td>train_rmse</td><td>199.76857</td></tr></table><br/></div></div>"
      ],
      "text/plain": [
       "<IPython.core.display.HTML object>"
      ]
     },
     "metadata": {},
     "output_type": "display_data"
    },
    {
     "data": {
      "text/html": [
       " View run <strong style=\"color:#cdcd00\">hardy-universe-3</strong> at: <a href='https://wandb.ai/kritika_23/adv_mla_at3/runs/o6r8jzhl' target=\"_blank\">https://wandb.ai/kritika_23/adv_mla_at3/runs/o6r8jzhl</a><br/>Synced 5 W&B file(s), 0 media file(s), 0 artifact file(s) and 0 other file(s)"
      ],
      "text/plain": [
       "<IPython.core.display.HTML object>"
      ]
     },
     "metadata": {},
     "output_type": "display_data"
    },
    {
     "data": {
      "text/html": [
       "Find logs at: <code>./wandb/run-20231108_123119-o6r8jzhl/logs</code>"
      ],
      "text/plain": [
       "<IPython.core.display.HTML object>"
      ]
     },
     "metadata": {},
     "output_type": "display_data"
    }
   ],
   "source": [
    "# Define and compile your model\n",
    "model = keras.Sequential([\n",
    "    layers.Dense(64, activation='relu', input_shape=[len(X_train.columns)]),\n",
    "    layers.Dense(64, activation='relu'),\n",
    "    layers.Dense(1)\n",
    "])\n",
    "model.compile(optimizer='adam', loss='mean_squared_error', metrics=[keras.metrics.RootMeanSquaredError()])\n",
    "\n",
    "# Train the model\n",
    "results = model.fit(X_train_scaled, y_train, epochs=config.epochs, \n",
    "                    batch_size=config.batch_size, \n",
    "                    validation_data=(X_test_scaled, y_test),\n",
    "                   verbose=True)\n",
    "\n",
    "# Make predictions on train and test sets\n",
    "train_predictions = model.predict(X_train_scaled)\n",
    "test_predictions = model.predict(X_test_scaled)\n",
    "\n",
    "# Calculate RMSE for train and test sets\n",
    "train_rmse = mean_squared_error(y_train, train_predictions, squared=False)\n",
    "test_rmse = mean_squared_error(y_test, test_predictions, squared=False)\n",
    "\n",
    "# Log RMSE scores\n",
    "wandb.log({\"train_rmse\": train_rmse, \"test_rmse\": test_rmse})\n",
    "\n",
    "# Log model weights\n",
    "wandb.log({\"model_weights\": model.get_weights()})\n",
    "\n",
    "wandb.finish()"
   ]
  },
  {
   "cell_type": "code",
   "execution_count": null,
   "id": "6e3b81a1",
   "metadata": {},
   "outputs": [],
   "source": []
  }
 ],
 "metadata": {
  "kernelspec": {
   "display_name": "adv-mla-at3-py3.9",
   "language": "python",
   "name": "adv-mla-at3-py3.9"
  },
  "language_info": {
   "codemirror_mode": {
    "name": "ipython",
    "version": 3
   },
   "file_extension": ".py",
   "mimetype": "text/x-python",
   "name": "python",
   "nbconvert_exporter": "python",
   "pygments_lexer": "ipython3",
   "version": "3.9.13"
  }
 },
 "nbformat": 4,
 "nbformat_minor": 5
}
