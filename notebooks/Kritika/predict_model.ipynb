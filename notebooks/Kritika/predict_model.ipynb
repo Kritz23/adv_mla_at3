{
 "cells": [
  {
   "cell_type": "code",
   "execution_count": 1,
   "id": "04f8c826",
   "metadata": {},
   "outputs": [],
   "source": [
    "import pandas as pd\n",
    "\n",
    "new_data = {\n",
    "    'startingAirport': 'ATL',\n",
    "    'destinationAirport': 'JFK',\n",
    "    'cabin_type': 'coach',\n",
    "    'flightDate': '2022-04-20',\n",
    "    'departure_time': '04:00'\n",
    "}\n",
    "\n",
    "inf_df = pd.DataFrame([new_data])"
   ]
  },
  {
   "cell_type": "code",
   "execution_count": 2,
   "id": "3da8cf73",
   "metadata": {},
   "outputs": [
    {
     "data": {
      "text/html": [
       "<div>\n",
       "<style scoped>\n",
       "    .dataframe tbody tr th:only-of-type {\n",
       "        vertical-align: middle;\n",
       "    }\n",
       "\n",
       "    .dataframe tbody tr th {\n",
       "        vertical-align: top;\n",
       "    }\n",
       "\n",
       "    .dataframe thead th {\n",
       "        text-align: right;\n",
       "    }\n",
       "</style>\n",
       "<table border=\"1\" class=\"dataframe\">\n",
       "  <thead>\n",
       "    <tr style=\"text-align: right;\">\n",
       "      <th></th>\n",
       "      <th>startingAirport</th>\n",
       "      <th>destinationAirport</th>\n",
       "      <th>cabin_type</th>\n",
       "      <th>month</th>\n",
       "      <th>day</th>\n",
       "      <th>weekday</th>\n",
       "      <th>departure_time_sin</th>\n",
       "      <th>departure_time_cos</th>\n",
       "      <th>departure_time_category</th>\n",
       "    </tr>\n",
       "  </thead>\n",
       "  <tbody>\n",
       "    <tr>\n",
       "      <th>0</th>\n",
       "      <td>ATL</td>\n",
       "      <td>JFK</td>\n",
       "      <td>coach</td>\n",
       "      <td>4</td>\n",
       "      <td>20</td>\n",
       "      <td>2</td>\n",
       "      <td>0.866025</td>\n",
       "      <td>0.5</td>\n",
       "      <td>night</td>\n",
       "    </tr>\n",
       "  </tbody>\n",
       "</table>\n",
       "</div>"
      ],
      "text/plain": [
       "  startingAirport destinationAirport cabin_type  month  day  weekday   \n",
       "0             ATL                JFK      coach      4   20        2  \\\n",
       "\n",
       "   departure_time_sin  departure_time_cos departure_time_category  \n",
       "0            0.866025                 0.5                   night  "
      ]
     },
     "execution_count": 2,
     "metadata": {},
     "output_type": "execute_result"
    }
   ],
   "source": [
    "import sys\n",
    "sys.path.append(\"../../src/features\")\n",
    "\n",
    "# import function from build_features python script \n",
    "from build_features import get_date_features, get_time_features\n",
    "inf_df = get_date_features(inf_df)\n",
    "inf_df = get_time_features(inf_df)\n",
    "\n",
    "inf_df"
   ]
  },
  {
   "cell_type": "code",
   "execution_count": 4,
   "id": "7057b301",
   "metadata": {},
   "outputs": [
    {
     "name": "stderr",
     "output_type": "stream",
     "text": [
      "WARNING:absl:At this time, the v2.11+ optimizer `tf.keras.optimizers.Adam` runs slowly on M1/M2 Macs, please use the legacy Keras optimizer instead, located at `tf.keras.optimizers.legacy.Adam`.\n"
     ]
    },
    {
     "name": "stdout",
     "output_type": "stream",
     "text": [
      "1/1 [==============================] - 0s 87ms/step\n"
     ]
    },
    {
     "data": {
      "text/plain": [
       "array([[306.27155]], dtype=float32)"
      ]
     },
     "execution_count": 4,
     "metadata": {},
     "output_type": "execute_result"
    }
   ],
   "source": [
    "import joblib\n",
    "from tensorflow.keras.models import load_model\n",
    "\n",
    "# Load the trained model\n",
    "model = load_model(\"../../models/Kritika/exp2_best_model.h5\")\n",
    "\n",
    "# Load label encoders and scaler\n",
    "label_encoder = joblib.load('../../models/Kritika/label_encoder.joblib')\n",
    "scaler = joblib.load('../../models/Kritika/standard_scaler.joblib')\n",
    "\n",
    "# Apply label encoding on categorical columns in the new data\n",
    "for col in ['startingAirport', 'destinationAirport', 'cabin_type', 'departure_time_category']:\n",
    "    inf_df[col] = label_encoder[col].transform(inf_df[col])\n",
    "\n",
    "# Scale the new data using the scaler fitted on the training data\n",
    "df_scaled = scaler.transform(inf_df)\n",
    "\n",
    "# Make prediction using the loaded model\n",
    "prediction = model.predict(df_scaled)\n",
    "prediction"
   ]
  },
  {
   "cell_type": "code",
   "execution_count": 7,
   "id": "52035212",
   "metadata": {},
   "outputs": [
    {
     "data": {
      "text/plain": [
       "306.27155"
      ]
     },
     "execution_count": 7,
     "metadata": {},
     "output_type": "execute_result"
    }
   ],
   "source": [
    "prediction[0][0]"
   ]
  },
  {
   "cell_type": "code",
   "execution_count": null,
   "id": "eaff443b",
   "metadata": {},
   "outputs": [],
   "source": []
  }
 ],
 "metadata": {
  "kernelspec": {
   "display_name": "adv-mla-at3-py3.9",
   "language": "python",
   "name": "adv-mla-at3-py3.9"
  },
  "language_info": {
   "codemirror_mode": {
    "name": "ipython",
    "version": 3
   },
   "file_extension": ".py",
   "mimetype": "text/x-python",
   "name": "python",
   "nbconvert_exporter": "python",
   "pygments_lexer": "ipython3",
   "version": "3.9.13"
  }
 },
 "nbformat": 4,
 "nbformat_minor": 5
}
